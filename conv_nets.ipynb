{
 "cells": [
  {
   "cell_type": "markdown",
   "metadata": {},
   "source": [
    "# Basic Imports"
   ]
  },
  {
   "cell_type": "code",
   "execution_count": 1,
   "metadata": {},
   "outputs": [],
   "source": [
    "import torch\n",
    "import torch.nn as nn\n",
    "import numpy as np\n",
    "import torch.nn.functional as F\n",
    "from tqdm import tqdm"
   ]
  },
  {
   "cell_type": "markdown",
   "metadata": {},
   "source": [
    "# Load traning  data"
   ]
  },
  {
   "cell_type": "code",
   "execution_count": 2,
   "metadata": {},
   "outputs": [],
   "source": [
    "training_data = np.load('traning_data.npy',allow_pickle=True)"
   ]
  },
  {
   "cell_type": "markdown",
   "metadata": {},
   "source": [
    "# Structure of network"
   ]
  },
  {
   "cell_type": "code",
   "execution_count": 31,
   "metadata": {},
   "outputs": [],
   "source": [
    "class Net(nn.Module):\n",
    "    def __init__(self):\n",
    "        super().__init__() # just run the init of parent class (nn.Module)\n",
    "        self.conv1 = nn.Conv2d(1, 32, 5) # input is 1 image, 32 output channels, 5x5 kernel / window\n",
    "        self.conv2 = nn.Conv2d(32, 64, 5) # input is 32, bc the first layer output 32. Then we say the output will be 64 channels, 5x5 kernel / window\n",
    "        self.conv3 = nn.Conv2d(64, 128, 5)\n",
    "\n",
    "        x = torch.randn(50,50).view(-1,1,50,50)\n",
    "        self._to_linear = None\n",
    "        self.convs(x)\n",
    "\n",
    "        self.fc1 = nn.Linear(self._to_linear, 512) #flattening.\n",
    "        self.fc2 = nn.Linear(512, 2) # 512 in, 2 out bc we're doing 2 classes (dog vs cat).\n",
    "\n",
    "    def convs(self, x):\n",
    "        # max pooling over 2x2\n",
    "        x = F.max_pool2d(F.relu(self.conv1(x)), (2, 2))\n",
    "        x = F.max_pool2d(F.relu(self.conv2(x)), (2, 2))\n",
    "        x = F.max_pool2d(F.relu(self.conv3(x)), (2, 2))\n",
    "\n",
    "        if self._to_linear is None:\n",
    "            self._to_linear = x[0].shape[0]*x[0].shape[1]*x[0].shape[2]\n",
    "        return x\n",
    "\n",
    "    def forward(self, x):\n",
    "        x = self.convs(x)\n",
    "        x = x.view(-1, self._to_linear)  # .view is reshape ... this flattens X before \n",
    "        x = F.relu(self.fc1(x))\n",
    "        x = self.fc2(x) # bc this is our output layer. No activation here.\n",
    "        return F.softmax(x, dim=1)"
   ]
  },
  {
   "cell_type": "code",
   "execution_count": 32,
   "metadata": {},
   "outputs": [
    {
     "name": "stdout",
     "output_type": "stream",
     "text": [
      "Net(\n",
      "  (conv1): Conv2d(1, 32, kernel_size=(5, 5), stride=(1, 1))\n",
      "  (conv2): Conv2d(32, 64, kernel_size=(5, 5), stride=(1, 1))\n",
      "  (conv3): Conv2d(64, 128, kernel_size=(5, 5), stride=(1, 1))\n",
      "  (fc1): Linear(in_features=512, out_features=512, bias=True)\n",
      "  (fc2): Linear(in_features=512, out_features=2, bias=True)\n",
      ")\n"
     ]
    }
   ],
   "source": [
    "net = Net()\n",
    "print(net)"
   ]
  },
  {
   "cell_type": "markdown",
   "metadata": {},
   "source": [
    "# Traning"
   ]
  },
  {
   "cell_type": "code",
   "execution_count": 33,
   "metadata": {},
   "outputs": [],
   "source": [
    "import torch.optim as optim\n",
    "\n",
    "optimizer = optim.Adam(net.parameters(), lr=0.001)\n",
    "loss_function = nn.MSELoss()\n",
    "\n",
    "X = torch.Tensor([i[0] for i in training_data]).view(-1,50,50)\n",
    "X = X/255.0\n",
    "y = torch.Tensor([i[1] for i in training_data])\n",
    "\n",
    "VAL_PCT = 0.1  #  reserve 10% of our data for validation\n",
    "val_size = int(len(X)*VAL_PCT)\n",
    "\n",
    "train_X = X[:-val_size]\n",
    "train_y = y[:-val_size]\n",
    "\n",
    "test_X = X[-val_size:]\n",
    "test_y = y[-val_size:]\n",
    "\n"
   ]
  },
  {
   "cell_type": "code",
   "execution_count": 34,
   "metadata": {},
   "outputs": [
    {
     "name": "stdout",
     "output_type": "stream",
     "text": [
      "Validation Size: 2494\n",
      "Train Size: 22452\n",
      "Test Size: 2494\n"
     ]
    }
   ],
   "source": [
    "print('Validation Size:',val_size)\n",
    "print('Train Size:',len(train_X))\n",
    "print('Test Size:',len(test_X))"
   ]
  },
  {
   "cell_type": "code",
   "execution_count": 37,
   "metadata": {},
   "outputs": [
    {
     "name": "stderr",
     "output_type": "stream",
     "text": [
      "\n",
      "  0%|          | 0/225 [00:00<?, ?it/s]\u001b[A\n",
      "  0%|          | 1/225 [00:00<00:35,  6.33it/s]\u001b[A"
     ]
    },
    {
     "name": "stdout",
     "output_type": "stream",
     "text": [
      "torch.Size([100, 1, 50, 50]) torch.Size([100, 2])\n",
      "torch.Size([100, 2])\n",
      "torch.Size([100, 1, 50, 50]) torch.Size([100, 2])\n"
     ]
    },
    {
     "name": "stderr",
     "output_type": "stream",
     "text": [
      "\n",
      "  1%|          | 2/225 [00:00<00:36,  6.14it/s]\u001b[A"
     ]
    },
    {
     "name": "stdout",
     "output_type": "stream",
     "text": [
      "torch.Size([100, 2])\n",
      "torch.Size([100, 1, 50, 50]) torch.Size([100, 2])\n",
      "torch.Size([100, 2])\n"
     ]
    },
    {
     "name": "stderr",
     "output_type": "stream",
     "text": [
      "\n",
      "  1%|▏         | 3/225 [00:00<00:35,  6.18it/s]\u001b[A\n",
      "  2%|▏         | 4/225 [00:00<00:37,  5.92it/s]\u001b[A"
     ]
    },
    {
     "name": "stdout",
     "output_type": "stream",
     "text": [
      "torch.Size([100, 1, 50, 50]) torch.Size([100, 2])\n",
      "torch.Size([100, 2])\n",
      "torch.Size([100, 1, 50, 50]) torch.Size([100, 2])\n"
     ]
    },
    {
     "name": "stderr",
     "output_type": "stream",
     "text": [
      "\n",
      "  2%|▏         | 5/225 [00:00<00:36,  6.10it/s]\u001b[A"
     ]
    },
    {
     "name": "stdout",
     "output_type": "stream",
     "text": [
      "torch.Size([100, 2])\n",
      "torch.Size([100, 1, 50, 50]) torch.Size([100, 2])\n",
      "torch.Size([100, 2])\n"
     ]
    },
    {
     "name": "stderr",
     "output_type": "stream",
     "text": [
      "\n",
      "  3%|▎         | 6/225 [00:01<00:37,  5.77it/s]\u001b[A\n",
      "  3%|▎         | 7/225 [00:01<00:39,  5.49it/s]\u001b[A"
     ]
    },
    {
     "name": "stdout",
     "output_type": "stream",
     "text": [
      "torch.Size([100, 1, 50, 50]) torch.Size([100, 2])\n",
      "torch.Size([100, 2])\n"
     ]
    },
    {
     "name": "stderr",
     "output_type": "stream",
     "text": [
      "\n",
      "  4%|▎         | 8/225 [00:01<00:40,  5.36it/s]\u001b[A"
     ]
    },
    {
     "name": "stdout",
     "output_type": "stream",
     "text": [
      "torch.Size([100, 1, 50, 50]) torch.Size([100, 2])\n",
      "torch.Size([100, 2])\n",
      "torch.Size([100, 1, 50, 50]) torch.Size([100, 2])\n"
     ]
    },
    {
     "name": "stderr",
     "output_type": "stream",
     "text": [
      "\n",
      "  4%|▍         | 9/225 [00:01<00:44,  4.85it/s]\u001b[A"
     ]
    },
    {
     "name": "stdout",
     "output_type": "stream",
     "text": [
      "torch.Size([100, 2])\n",
      "torch.Size([100, 1, 50, 50]) torch.Size([100, 2])\n"
     ]
    },
    {
     "name": "stderr",
     "output_type": "stream",
     "text": [
      "\n",
      "  4%|▍         | 10/225 [00:01<00:42,  5.10it/s]\u001b[A"
     ]
    },
    {
     "name": "stdout",
     "output_type": "stream",
     "text": [
      "torch.Size([100, 2])\n",
      "torch.Size([100, 1, 50, 50]) torch.Size([100, 2])\n",
      "torch.Size([100, 2])\n"
     ]
    },
    {
     "name": "stderr",
     "output_type": "stream",
     "text": [
      "\n",
      "  5%|▍         | 11/225 [00:02<00:44,  4.86it/s]\u001b[A\n",
      "  5%|▌         | 12/225 [00:02<00:41,  5.12it/s]\u001b[A"
     ]
    },
    {
     "name": "stdout",
     "output_type": "stream",
     "text": [
      "torch.Size([100, 1, 50, 50]) torch.Size([100, 2])\n",
      "torch.Size([100, 2])\n",
      "torch.Size([100, 1, 50, 50]) torch.Size([100, 2])\n"
     ]
    },
    {
     "name": "stderr",
     "output_type": "stream",
     "text": [
      "\n",
      "  6%|▌         | 13/225 [00:02<00:39,  5.34it/s]\u001b[A"
     ]
    },
    {
     "name": "stdout",
     "output_type": "stream",
     "text": [
      "torch.Size([100, 2])\n",
      "torch.Size([100, 1, 50, 50]) torch.Size([100, 2])\n",
      "torch.Size([100, 2])\n"
     ]
    },
    {
     "name": "stderr",
     "output_type": "stream",
     "text": [
      "\n",
      "  6%|▌         | 14/225 [00:02<00:38,  5.51it/s]\u001b[A\n",
      "  7%|▋         | 15/225 [00:02<00:38,  5.46it/s]\u001b[A"
     ]
    },
    {
     "name": "stdout",
     "output_type": "stream",
     "text": [
      "torch.Size([100, 1, 50, 50]) torch.Size([100, 2])\n",
      "torch.Size([100, 2])\n",
      "torch.Size([100, 1, 50, 50]) torch.Size([100, 2])\n"
     ]
    },
    {
     "name": "stderr",
     "output_type": "stream",
     "text": [
      "\n",
      "  7%|▋         | 16/225 [00:02<00:37,  5.55it/s]\u001b[A"
     ]
    },
    {
     "name": "stdout",
     "output_type": "stream",
     "text": [
      "torch.Size([100, 2])\n",
      "torch.Size([100, 1, 50, 50]) torch.Size([100, 2])\n",
      "torch.Size([100, 2])\n"
     ]
    },
    {
     "name": "stderr",
     "output_type": "stream",
     "text": [
      "\n",
      "  8%|▊         | 17/225 [00:03<00:37,  5.53it/s]\u001b[A\n",
      "  8%|▊         | 18/225 [00:03<00:34,  5.93it/s]\u001b[A"
     ]
    },
    {
     "name": "stdout",
     "output_type": "stream",
     "text": [
      "torch.Size([100, 1, 50, 50]) torch.Size([100, 2])\n",
      "torch.Size([100, 2])\n",
      "torch.Size([100, 1, 50, 50]) torch.Size([100, 2])\n",
      "torch.Size([100, 2])\n"
     ]
    },
    {
     "name": "stderr",
     "output_type": "stream",
     "text": [
      "\n",
      "  8%|▊         | 19/225 [00:03<00:33,  6.13it/s]\u001b[A\n",
      "  9%|▉         | 20/225 [00:03<00:32,  6.33it/s]\u001b[A"
     ]
    },
    {
     "name": "stdout",
     "output_type": "stream",
     "text": [
      "torch.Size([100, 1, 50, 50]) torch.Size([100, 2])\n",
      "torch.Size([100, 2])\n",
      "torch.Size([100, 1, 50, 50]) torch.Size([100, 2])\n",
      "torch.Size([100, 2])\n"
     ]
    },
    {
     "name": "stderr",
     "output_type": "stream",
     "text": [
      "\n",
      "  9%|▉         | 21/225 [00:03<00:31,  6.39it/s]\u001b[A\n",
      " 10%|▉         | 22/225 [00:03<00:31,  6.45it/s]\u001b[A"
     ]
    },
    {
     "name": "stdout",
     "output_type": "stream",
     "text": [
      "torch.Size([100, 1, 50, 50]) torch.Size([100, 2])\n",
      "torch.Size([100, 2])\n",
      "torch.Size([100, 1, 50, 50]) torch.Size([100, 2])\n"
     ]
    },
    {
     "name": "stderr",
     "output_type": "stream",
     "text": [
      "\n",
      " 10%|█         | 23/225 [00:04<00:35,  5.66it/s]\u001b[A"
     ]
    },
    {
     "name": "stdout",
     "output_type": "stream",
     "text": [
      "torch.Size([100, 2])\n",
      "torch.Size([100, 1, 50, 50]) torch.Size([100, 2])\n"
     ]
    },
    {
     "name": "stderr",
     "output_type": "stream",
     "text": [
      "\n",
      " 11%|█         | 24/225 [00:04<00:35,  5.66it/s]\u001b[A"
     ]
    },
    {
     "name": "stdout",
     "output_type": "stream",
     "text": [
      "torch.Size([100, 2])\n",
      "torch.Size([100, 1, 50, 50]) torch.Size([100, 2])\n",
      "torch.Size([100, 2])\n"
     ]
    },
    {
     "name": "stderr",
     "output_type": "stream",
     "text": [
      "\n",
      " 11%|█         | 25/225 [00:04<00:39,  5.07it/s]\u001b[A\n",
      " 12%|█▏        | 26/225 [00:04<00:38,  5.19it/s]\u001b[A"
     ]
    },
    {
     "name": "stdout",
     "output_type": "stream",
     "text": [
      "torch.Size([100, 1, 50, 50]) torch.Size([100, 2])\n",
      "torch.Size([100, 2])\n",
      "torch.Size([100, 1, 50, 50]) torch.Size([100, 2])\n"
     ]
    },
    {
     "name": "stderr",
     "output_type": "stream",
     "text": [
      "\n",
      " 12%|█▏        | 27/225 [00:04<00:36,  5.44it/s]\u001b[A"
     ]
    },
    {
     "name": "stdout",
     "output_type": "stream",
     "text": [
      "torch.Size([100, 2])\n",
      "torch.Size([100, 1, 50, 50]) torch.Size([100, 2])\n",
      "torch.Size([100, 2])\n"
     ]
    },
    {
     "name": "stderr",
     "output_type": "stream",
     "text": [
      "\n",
      " 12%|█▏        | 28/225 [00:05<00:35,  5.62it/s]\u001b[A\n",
      " 13%|█▎        | 29/225 [00:05<00:34,  5.65it/s]\u001b[A"
     ]
    },
    {
     "name": "stdout",
     "output_type": "stream",
     "text": [
      "torch.Size([100, 1, 50, 50]) torch.Size([100, 2])\n",
      "torch.Size([100, 2])\n",
      "torch.Size([100, 1, 50, 50]) torch.Size([100, 2])\n"
     ]
    },
    {
     "name": "stderr",
     "output_type": "stream",
     "text": [
      "\n",
      " 13%|█▎        | 30/225 [00:05<00:33,  5.83it/s]\u001b[A"
     ]
    },
    {
     "name": "stdout",
     "output_type": "stream",
     "text": [
      "torch.Size([100, 2])\n",
      "torch.Size([100, 1, 50, 50]) torch.Size([100, 2])\n",
      "torch.Size([100, 2])\n"
     ]
    },
    {
     "name": "stderr",
     "output_type": "stream",
     "text": [
      "\n",
      " 14%|█▍        | 31/225 [00:05<00:33,  5.85it/s]\u001b[A\n",
      " 14%|█▍        | 32/225 [00:05<00:34,  5.67it/s]\u001b[A"
     ]
    },
    {
     "name": "stdout",
     "output_type": "stream",
     "text": [
      "torch.Size([100, 1, 50, 50]) torch.Size([100, 2])\n",
      "torch.Size([100, 2])\n",
      "torch.Size([100, 1, 50, 50]) torch.Size([100, 2])\n"
     ]
    },
    {
     "name": "stderr",
     "output_type": "stream",
     "text": [
      "\n",
      " 15%|█▍        | 33/225 [00:05<00:31,  6.01it/s]\u001b[A"
     ]
    },
    {
     "name": "stdout",
     "output_type": "stream",
     "text": [
      "torch.Size([100, 2])\n",
      "torch.Size([100, 1, 50, 50]) torch.Size([100, 2])\n",
      "torch.Size([100, 2])\n"
     ]
    },
    {
     "name": "stderr",
     "output_type": "stream",
     "text": [
      "\n",
      " 15%|█▌        | 34/225 [00:06<00:32,  5.83it/s]\u001b[A\n",
      " 16%|█▌        | 35/225 [00:06<00:30,  6.18it/s]\u001b[A"
     ]
    },
    {
     "name": "stdout",
     "output_type": "stream",
     "text": [
      "torch.Size([100, 1, 50, 50]) torch.Size([100, 2])\n",
      "torch.Size([100, 2])\n",
      "torch.Size([100, 1, 50, 50]) torch.Size([100, 2])\n",
      "torch.Size([100, 2])\n"
     ]
    },
    {
     "name": "stderr",
     "output_type": "stream",
     "text": [
      "\n",
      " 16%|█▌        | 36/225 [00:06<00:29,  6.31it/s]\u001b[A\n",
      " 16%|█▋        | 37/225 [00:06<00:30,  6.16it/s]\u001b[A"
     ]
    },
    {
     "name": "stdout",
     "output_type": "stream",
     "text": [
      "torch.Size([100, 1, 50, 50]) torch.Size([100, 2])\n",
      "torch.Size([100, 2])\n",
      "torch.Size([100, 1, 50, 50]) torch.Size([100, 2])\n"
     ]
    },
    {
     "name": "stderr",
     "output_type": "stream",
     "text": [
      "\n",
      " 17%|█▋        | 38/225 [00:06<00:35,  5.20it/s]\u001b[A"
     ]
    },
    {
     "name": "stdout",
     "output_type": "stream",
     "text": [
      "torch.Size([100, 2])\n",
      "torch.Size([100, 1, 50, 50]) torch.Size([100, 2])\n"
     ]
    },
    {
     "name": "stderr",
     "output_type": "stream",
     "text": [
      "\n",
      " 17%|█▋        | 39/225 [00:06<00:35,  5.30it/s]\u001b[A"
     ]
    },
    {
     "name": "stdout",
     "output_type": "stream",
     "text": [
      "torch.Size([100, 2])\n",
      "torch.Size([100, 1, 50, 50]) torch.Size([100, 2])\n",
      "torch.Size([100, 2])\n"
     ]
    },
    {
     "name": "stderr",
     "output_type": "stream",
     "text": [
      "\n",
      " 18%|█▊        | 40/225 [00:07<00:38,  4.83it/s]\u001b[A\n",
      " 18%|█▊        | 41/225 [00:07<00:34,  5.40it/s]\u001b[A"
     ]
    },
    {
     "name": "stdout",
     "output_type": "stream",
     "text": [
      "torch.Size([100, 1, 50, 50]) torch.Size([100, 2])\n",
      "torch.Size([100, 2])\n",
      "torch.Size([100, 1, 50, 50]) torch.Size([100, 2])\n"
     ]
    },
    {
     "name": "stderr",
     "output_type": "stream",
     "text": [
      "\n",
      " 19%|█▊        | 42/225 [00:07<00:35,  5.15it/s]\u001b[A"
     ]
    },
    {
     "name": "stdout",
     "output_type": "stream",
     "text": [
      "torch.Size([100, 2])\n",
      "torch.Size([100, 1, 50, 50]) torch.Size([100, 2])\n"
     ]
    },
    {
     "name": "stderr",
     "output_type": "stream",
     "text": [
      "\n",
      " 19%|█▉        | 43/225 [00:07<00:35,  5.10it/s]\u001b[A"
     ]
    },
    {
     "name": "stdout",
     "output_type": "stream",
     "text": [
      "torch.Size([100, 2])\n",
      "torch.Size([100, 1, 50, 50]) torch.Size([100, 2])\n",
      "torch.Size([100, 2])\n"
     ]
    },
    {
     "name": "stderr",
     "output_type": "stream",
     "text": [
      "\n",
      " 20%|█▉        | 44/225 [00:07<00:38,  4.75it/s]\u001b[A\n",
      " 20%|██        | 45/225 [00:08<00:36,  4.87it/s]\u001b[A"
     ]
    },
    {
     "name": "stdout",
     "output_type": "stream",
     "text": [
      "torch.Size([100, 1, 50, 50]) torch.Size([100, 2])\n",
      "torch.Size([100, 2])\n",
      "torch.Size([100, 1, 50, 50]) torch.Size([100, 2])\n"
     ]
    },
    {
     "name": "stderr",
     "output_type": "stream",
     "text": [
      "\n",
      " 20%|██        | 46/225 [00:08<00:38,  4.60it/s]\u001b[A"
     ]
    },
    {
     "name": "stdout",
     "output_type": "stream",
     "text": [
      "torch.Size([100, 2])\n",
      "torch.Size([100, 1, 50, 50]) torch.Size([100, 2])\n"
     ]
    },
    {
     "name": "stderr",
     "output_type": "stream",
     "text": [
      "\n",
      " 21%|██        | 47/225 [00:08<00:37,  4.72it/s]\u001b[A"
     ]
    },
    {
     "name": "stdout",
     "output_type": "stream",
     "text": [
      "torch.Size([100, 2])\n",
      "torch.Size([100, 1, 50, 50]) torch.Size([100, 2])\n",
      "torch.Size([100, 2])\n"
     ]
    },
    {
     "name": "stderr",
     "output_type": "stream",
     "text": [
      "\n",
      " 21%|██▏       | 48/225 [00:08<00:37,  4.73it/s]\u001b[A"
     ]
    },
    {
     "name": "stdout",
     "output_type": "stream",
     "text": [
      "torch.Size([100, 1, 50, 50]) torch.Size([100, 2])\n",
      "torch.Size([100, 2])\n"
     ]
    },
    {
     "name": "stderr",
     "output_type": "stream",
     "text": [
      "\n",
      " 22%|██▏       | 49/225 [00:09<00:37,  4.66it/s]\u001b[A\n",
      " 22%|██▏       | 50/225 [00:09<00:36,  4.79it/s]\u001b[A"
     ]
    },
    {
     "name": "stdout",
     "output_type": "stream",
     "text": [
      "torch.Size([100, 1, 50, 50]) torch.Size([100, 2])\n",
      "torch.Size([100, 2])\n",
      "torch.Size([100, 1, 50, 50]) torch.Size([100, 2])\n"
     ]
    },
    {
     "name": "stderr",
     "output_type": "stream",
     "text": [
      "\n",
      " 23%|██▎       | 51/225 [00:09<00:32,  5.34it/s]\u001b[A"
     ]
    },
    {
     "name": "stdout",
     "output_type": "stream",
     "text": [
      "torch.Size([100, 2])\n",
      "torch.Size([100, 1, 50, 50]) torch.Size([100, 2])\n",
      "torch.Size([100, 2])\n"
     ]
    },
    {
     "name": "stderr",
     "output_type": "stream",
     "text": [
      "\n",
      " 23%|██▎       | 52/225 [00:09<00:31,  5.44it/s]\u001b[A\n",
      " 24%|██▎       | 53/225 [00:09<00:32,  5.34it/s]\u001b[A"
     ]
    },
    {
     "name": "stdout",
     "output_type": "stream",
     "text": [
      "torch.Size([100, 1, 50, 50]) torch.Size([100, 2])\n",
      "torch.Size([100, 2])\n",
      "torch.Size([100, 1, 50, 50]) torch.Size([100, 2])\n"
     ]
    },
    {
     "name": "stderr",
     "output_type": "stream",
     "text": [
      "\n",
      " 24%|██▍       | 54/225 [00:10<00:34,  4.97it/s]\u001b[A"
     ]
    },
    {
     "name": "stdout",
     "output_type": "stream",
     "text": [
      "torch.Size([100, 2])\n",
      "torch.Size([100, 1, 50, 50]) torch.Size([100, 2])\n"
     ]
    },
    {
     "name": "stderr",
     "output_type": "stream",
     "text": [
      "\n",
      " 24%|██▍       | 55/225 [00:10<00:33,  5.13it/s]\u001b[A"
     ]
    },
    {
     "name": "stdout",
     "output_type": "stream",
     "text": [
      "torch.Size([100, 2])\n",
      "torch.Size([100, 1, 50, 50]) torch.Size([100, 2])\n",
      "torch.Size([100, 2])\n"
     ]
    },
    {
     "name": "stderr",
     "output_type": "stream",
     "text": [
      "\n",
      " 25%|██▍       | 56/225 [00:10<00:31,  5.36it/s]\u001b[A\n",
      " 25%|██▌       | 57/225 [00:10<00:29,  5.65it/s]\u001b[A"
     ]
    },
    {
     "name": "stdout",
     "output_type": "stream",
     "text": [
      "torch.Size([100, 1, 50, 50]) torch.Size([100, 2])\n",
      "torch.Size([100, 2])\n",
      "torch.Size([100, 1, 50, 50]) torch.Size([100, 2])\n"
     ]
    },
    {
     "name": "stderr",
     "output_type": "stream",
     "text": [
      "\n",
      " 26%|██▌       | 58/225 [00:10<00:28,  5.82it/s]\u001b[A"
     ]
    },
    {
     "name": "stdout",
     "output_type": "stream",
     "text": [
      "torch.Size([100, 2])\n",
      "torch.Size([100, 1, 50, 50]) torch.Size([100, 2])\n",
      "torch.Size([100, 2])\n"
     ]
    },
    {
     "name": "stderr",
     "output_type": "stream",
     "text": [
      "\n",
      " 26%|██▌       | 59/225 [00:10<00:28,  5.90it/s]\u001b[A\n",
      " 27%|██▋       | 60/225 [00:10<00:27,  6.03it/s]\u001b[A"
     ]
    },
    {
     "name": "stdout",
     "output_type": "stream",
     "text": [
      "torch.Size([100, 1, 50, 50]) torch.Size([100, 2])\n",
      "torch.Size([100, 2])\n",
      "torch.Size([100, 1, 50, 50]) torch.Size([100, 2])\n"
     ]
    },
    {
     "name": "stderr",
     "output_type": "stream",
     "text": [
      "\n",
      " 27%|██▋       | 61/225 [00:11<00:29,  5.53it/s]\u001b[A"
     ]
    },
    {
     "name": "stdout",
     "output_type": "stream",
     "text": [
      "torch.Size([100, 2])\n",
      "torch.Size([100, 1, 50, 50]) torch.Size([100, 2])\n"
     ]
    },
    {
     "name": "stderr",
     "output_type": "stream",
     "text": [
      "\n",
      " 28%|██▊       | 62/225 [00:11<00:28,  5.64it/s]\u001b[A"
     ]
    },
    {
     "name": "stdout",
     "output_type": "stream",
     "text": [
      "torch.Size([100, 2])\n",
      "torch.Size([100, 1, 50, 50]) torch.Size([100, 2])\n",
      "torch.Size([100, 2])\n"
     ]
    },
    {
     "name": "stderr",
     "output_type": "stream",
     "text": [
      "\n",
      " 28%|██▊       | 63/225 [00:11<00:30,  5.36it/s]\u001b[A"
     ]
    },
    {
     "name": "stdout",
     "output_type": "stream",
     "text": [
      "torch.Size([100, 1, 50, 50]) torch.Size([100, 2])\n",
      "torch.Size([100, 2])\n"
     ]
    },
    {
     "name": "stderr",
     "output_type": "stream",
     "text": [
      "\n",
      " 28%|██▊       | 64/225 [00:11<00:31,  5.13it/s]\u001b[A\n",
      " 29%|██▉       | 65/225 [00:11<00:30,  5.27it/s]\u001b[A"
     ]
    },
    {
     "name": "stdout",
     "output_type": "stream",
     "text": [
      "torch.Size([100, 1, 50, 50]) torch.Size([100, 2])\n",
      "torch.Size([100, 2])\n",
      "torch.Size([100, 1, 50, 50]) torch.Size([100, 2])\n"
     ]
    },
    {
     "name": "stderr",
     "output_type": "stream",
     "text": [
      "\n",
      " 29%|██▉       | 66/225 [00:12<00:29,  5.43it/s]\u001b[A"
     ]
    },
    {
     "name": "stdout",
     "output_type": "stream",
     "text": [
      "torch.Size([100, 2])\n",
      "torch.Size([100, 1, 50, 50]) torch.Size([100, 2])\n",
      "torch.Size([100, 2])\n"
     ]
    },
    {
     "name": "stderr",
     "output_type": "stream",
     "text": [
      "\n",
      " 30%|██▉       | 67/225 [00:12<00:28,  5.59it/s]\u001b[A\n",
      " 30%|███       | 68/225 [00:12<00:29,  5.30it/s]"
     ]
    },
    {
     "name": "stdout",
     "output_type": "stream",
     "text": [
      "torch.Size([100, 1, 50, 50]) torch.Size([100, 2])\n",
      "torch.Size([100, 2])\n"
     ]
    },
    {
     "name": "stderr",
     "output_type": "stream",
     "text": [
      "\u001b[A"
     ]
    },
    {
     "name": "stdout",
     "output_type": "stream",
     "text": [
      "torch.Size([100, 1, 50, 50]) torch.Size([100, 2])\n",
      "torch.Size([100, 2])\n"
     ]
    },
    {
     "name": "stderr",
     "output_type": "stream",
     "text": [
      "\n",
      " 31%|███       | 69/225 [00:12<00:31,  4.93it/s]\u001b[A"
     ]
    },
    {
     "name": "stdout",
     "output_type": "stream",
     "text": [
      "torch.Size([100, 1, 50, 50]) torch.Size([100, 2])\n",
      "torch.Size([100, 2])\n"
     ]
    },
    {
     "name": "stderr",
     "output_type": "stream",
     "text": [
      "\n",
      " 31%|███       | 70/225 [00:12<00:33,  4.70it/s]\u001b[A\n",
      " 32%|███▏      | 71/225 [00:13<00:31,  4.86it/s]\u001b[A"
     ]
    },
    {
     "name": "stdout",
     "output_type": "stream",
     "text": [
      "torch.Size([100, 1, 50, 50]) torch.Size([100, 2])\n",
      "torch.Size([100, 2])\n",
      "torch.Size([100, 1, 50, 50]) torch.Size([100, 2])\n"
     ]
    },
    {
     "name": "stderr",
     "output_type": "stream",
     "text": [
      "\n",
      " 32%|███▏      | 72/225 [00:13<00:31,  4.93it/s]\u001b[A"
     ]
    },
    {
     "name": "stdout",
     "output_type": "stream",
     "text": [
      "torch.Size([100, 2])\n",
      "torch.Size([100, 1, 50, 50]) torch.Size([100, 2])\n",
      "torch.Size([100, 2])\n"
     ]
    },
    {
     "name": "stderr",
     "output_type": "stream",
     "text": [
      "\n",
      " 32%|███▏      | 73/225 [00:13<00:27,  5.45it/s]\u001b[A"
     ]
    },
    {
     "name": "stdout",
     "output_type": "stream",
     "text": [
      "torch.Size([100, 1, 50, 50]) torch.Size([100, 2])\n",
      "torch.Size([100, 2])\n"
     ]
    },
    {
     "name": "stderr",
     "output_type": "stream",
     "text": [
      "\n",
      " 33%|███▎      | 74/225 [00:13<00:28,  5.22it/s]\u001b[A\n",
      " 33%|███▎      | 75/225 [00:13<00:26,  5.63it/s]\u001b[A"
     ]
    },
    {
     "name": "stdout",
     "output_type": "stream",
     "text": [
      "torch.Size([100, 1, 50, 50]) torch.Size([100, 2])\n",
      "torch.Size([100, 2])\n",
      "torch.Size([100, 1, 50, 50]) torch.Size([100, 2])\n"
     ]
    },
    {
     "name": "stderr",
     "output_type": "stream",
     "text": [
      "\n",
      " 34%|███▍      | 76/225 [00:14<00:25,  5.83it/s]\u001b[A"
     ]
    },
    {
     "name": "stdout",
     "output_type": "stream",
     "text": [
      "torch.Size([100, 2])\n",
      "torch.Size([100, 1, 50, 50]) torch.Size([100, 2])\n",
      "torch.Size([100, 2])\n"
     ]
    },
    {
     "name": "stderr",
     "output_type": "stream",
     "text": [
      "\n",
      " 34%|███▍      | 77/225 [00:14<00:23,  6.29it/s]\u001b[A"
     ]
    },
    {
     "name": "stdout",
     "output_type": "stream",
     "text": [
      "torch.Size([100, 1, 50, 50]) torch.Size([100, 2])\n",
      "torch.Size([100, 2])\n"
     ]
    },
    {
     "name": "stderr",
     "output_type": "stream",
     "text": [
      "\n",
      " 35%|███▍      | 78/225 [00:14<00:26,  5.63it/s]\u001b[A\n",
      " 35%|███▌      | 79/225 [00:14<00:25,  5.73it/s]\u001b[A"
     ]
    },
    {
     "name": "stdout",
     "output_type": "stream",
     "text": [
      "torch.Size([100, 1, 50, 50]) torch.Size([100, 2])\n",
      "torch.Size([100, 2])\n",
      "torch.Size([100, 1, 50, 50]) torch.Size([100, 2])\n"
     ]
    },
    {
     "name": "stderr",
     "output_type": "stream",
     "text": [
      "\n",
      " 36%|███▌      | 80/225 [00:14<00:27,  5.29it/s]\u001b[A"
     ]
    },
    {
     "name": "stdout",
     "output_type": "stream",
     "text": [
      "torch.Size([100, 2])\n",
      "torch.Size([100, 1, 50, 50]) torch.Size([100, 2])\n"
     ]
    },
    {
     "name": "stderr",
     "output_type": "stream",
     "text": [
      "\n",
      " 36%|███▌      | 81/225 [00:14<00:26,  5.51it/s]\u001b[A"
     ]
    },
    {
     "name": "stdout",
     "output_type": "stream",
     "text": [
      "torch.Size([100, 2])\n",
      "torch.Size([100, 1, 50, 50]) torch.Size([100, 2])\n",
      "torch.Size([100, 2])\n"
     ]
    },
    {
     "name": "stderr",
     "output_type": "stream",
     "text": [
      "\n",
      " 36%|███▋      | 82/225 [00:15<00:27,  5.15it/s]\u001b[A\n",
      " 37%|███▋      | 83/225 [00:15<00:25,  5.58it/s]\u001b[A"
     ]
    },
    {
     "name": "stdout",
     "output_type": "stream",
     "text": [
      "torch.Size([100, 1, 50, 50]) torch.Size([100, 2])\n",
      "torch.Size([100, 2])\n",
      "torch.Size([100, 1, 50, 50]) torch.Size([100, 2])\n"
     ]
    },
    {
     "name": "stderr",
     "output_type": "stream",
     "text": [
      "\n",
      " 37%|███▋      | 84/225 [00:15<00:24,  5.80it/s]\u001b[A"
     ]
    },
    {
     "name": "stdout",
     "output_type": "stream",
     "text": [
      "torch.Size([100, 2])\n",
      "torch.Size([100, 1, 50, 50]) torch.Size([100, 2])\n",
      "torch.Size([100, 2])\n"
     ]
    },
    {
     "name": "stderr",
     "output_type": "stream",
     "text": [
      "\n",
      " 38%|███▊      | 85/225 [00:15<00:23,  5.98it/s]\u001b[A"
     ]
    },
    {
     "name": "stdout",
     "output_type": "stream",
     "text": [
      "torch.Size([100, 1, 50, 50]) torch.Size([100, 2])\n",
      "torch.Size([100, 2])\n"
     ]
    },
    {
     "name": "stderr",
     "output_type": "stream",
     "text": [
      "\n",
      " 38%|███▊      | 86/225 [00:15<00:25,  5.48it/s]\u001b[A\n",
      " 39%|███▊      | 87/225 [00:15<00:24,  5.64it/s]\u001b[A"
     ]
    },
    {
     "name": "stdout",
     "output_type": "stream",
     "text": [
      "torch.Size([100, 1, 50, 50]) torch.Size([100, 2])\n",
      "torch.Size([100, 2])\n",
      "torch.Size([100, 1, 50, 50]) torch.Size([100, 2])\n",
      "torch.Size([100, 2])\n"
     ]
    },
    {
     "name": "stderr",
     "output_type": "stream",
     "text": [
      "\n",
      " 39%|███▉      | 88/225 [00:16<00:22,  6.15it/s]\u001b[A\n",
      " 40%|███▉      | 89/225 [00:16<00:20,  6.56it/s]\u001b[A"
     ]
    },
    {
     "name": "stdout",
     "output_type": "stream",
     "text": [
      "torch.Size([100, 1, 50, 50]) torch.Size([100, 2])\n",
      "torch.Size([100, 2])\n",
      "torch.Size([100, 1, 50, 50]) torch.Size([100, 2])\n",
      "torch.Size([100, 2])\n"
     ]
    },
    {
     "name": "stderr",
     "output_type": "stream",
     "text": [
      "\n",
      " 40%|████      | 90/225 [00:16<00:20,  6.59it/s]\u001b[A\n",
      " 40%|████      | 91/225 [00:16<00:21,  6.31it/s]\u001b[A"
     ]
    },
    {
     "name": "stdout",
     "output_type": "stream",
     "text": [
      "torch.Size([100, 1, 50, 50]) torch.Size([100, 2])\n",
      "torch.Size([100, 2])\n",
      "torch.Size([100, 1, 50, 50]) torch.Size([100, 2])\n"
     ]
    },
    {
     "name": "stderr",
     "output_type": "stream",
     "text": [
      "\n",
      " 41%|████      | 92/225 [00:16<00:20,  6.44it/s]\u001b[A"
     ]
    },
    {
     "name": "stdout",
     "output_type": "stream",
     "text": [
      "torch.Size([100, 2])\n",
      "torch.Size([100, 1, 50, 50]) torch.Size([100, 2])\n",
      "torch.Size([100, 2])\n"
     ]
    },
    {
     "name": "stderr",
     "output_type": "stream",
     "text": [
      "\n",
      " 41%|████▏     | 93/225 [00:16<00:19,  6.80it/s]\u001b[A\n",
      " 42%|████▏     | 94/225 [00:16<00:18,  7.05it/s]\u001b[A"
     ]
    },
    {
     "name": "stdout",
     "output_type": "stream",
     "text": [
      "torch.Size([100, 1, 50, 50]) torch.Size([100, 2])\n",
      "torch.Size([100, 2])\n",
      "torch.Size([100, 1, 50, 50]) torch.Size([100, 2])\n",
      "torch.Size([100, 2])\n"
     ]
    },
    {
     "name": "stderr",
     "output_type": "stream",
     "text": [
      "\n",
      " 42%|████▏     | 95/225 [00:17<00:19,  6.70it/s]\u001b[A\n",
      " 43%|████▎     | 96/225 [00:17<00:18,  6.99it/s]\u001b[A"
     ]
    },
    {
     "name": "stdout",
     "output_type": "stream",
     "text": [
      "torch.Size([100, 1, 50, 50]) torch.Size([100, 2])\n",
      "torch.Size([100, 2])\n",
      "torch.Size([100, 1, 50, 50]) torch.Size([100, 2])\n",
      "torch.Size([100, 2])\n"
     ]
    },
    {
     "name": "stderr",
     "output_type": "stream",
     "text": [
      "\n",
      " 43%|████▎     | 97/225 [00:17<00:18,  6.78it/s]\u001b[A\n",
      " 44%|████▎     | 98/225 [00:17<00:19,  6.52it/s]\u001b[A"
     ]
    },
    {
     "name": "stdout",
     "output_type": "stream",
     "text": [
      "torch.Size([100, 1, 50, 50]) torch.Size([100, 2])\n",
      "torch.Size([100, 2])\n",
      "torch.Size([100, 1, 50, 50]) torch.Size([100, 2])\n"
     ]
    },
    {
     "name": "stderr",
     "output_type": "stream",
     "text": [
      "\n",
      " 44%|████▍     | 99/225 [00:17<00:21,  5.73it/s]\u001b[A"
     ]
    },
    {
     "name": "stdout",
     "output_type": "stream",
     "text": [
      "torch.Size([100, 2])\n",
      "torch.Size([100, 1, 50, 50]) torch.Size([100, 2])\n"
     ]
    },
    {
     "name": "stderr",
     "output_type": "stream",
     "text": [
      "\n",
      " 44%|████▍     | 100/225 [00:18<00:23,  5.41it/s]\u001b[A"
     ]
    },
    {
     "name": "stdout",
     "output_type": "stream",
     "text": [
      "torch.Size([100, 2])\n",
      "torch.Size([100, 1, 50, 50]) torch.Size([100, 2])\n"
     ]
    },
    {
     "name": "stderr",
     "output_type": "stream",
     "text": [
      "\n",
      " 45%|████▍     | 101/225 [00:18<00:23,  5.36it/s]\u001b[A"
     ]
    },
    {
     "name": "stdout",
     "output_type": "stream",
     "text": [
      "torch.Size([100, 2])\n",
      "torch.Size([100, 1, 50, 50]) torch.Size([100, 2])\n",
      "torch.Size([100, 2])\n"
     ]
    },
    {
     "name": "stderr",
     "output_type": "stream",
     "text": [
      "\n",
      " 45%|████▌     | 102/225 [00:18<00:21,  5.77it/s]\u001b[A\n",
      " 46%|████▌     | 103/225 [00:18<00:19,  6.20it/s]\u001b[A"
     ]
    },
    {
     "name": "stdout",
     "output_type": "stream",
     "text": [
      "torch.Size([100, 1, 50, 50]) torch.Size([100, 2])\n",
      "torch.Size([100, 2])\n",
      "torch.Size([100, 1, 50, 50]) torch.Size([100, 2])\n",
      "torch.Size([100, 2])\n"
     ]
    },
    {
     "name": "stderr",
     "output_type": "stream",
     "text": [
      "\n",
      " 46%|████▌     | 104/225 [00:18<00:18,  6.56it/s]\u001b[A\n",
      " 47%|████▋     | 105/225 [00:18<00:17,  6.78it/s]\u001b[A"
     ]
    },
    {
     "name": "stdout",
     "output_type": "stream",
     "text": [
      "torch.Size([100, 1, 50, 50]) torch.Size([100, 2])\n",
      "torch.Size([100, 2])\n",
      "torch.Size([100, 1, 50, 50]) torch.Size([100, 2])\n",
      "torch.Size([100, 2])\n"
     ]
    },
    {
     "name": "stderr",
     "output_type": "stream",
     "text": [
      "\n",
      " 47%|████▋     | 106/225 [00:18<00:18,  6.40it/s]\u001b[A\n",
      " 48%|████▊     | 107/225 [00:19<00:17,  6.73it/s]\u001b[A"
     ]
    },
    {
     "name": "stdout",
     "output_type": "stream",
     "text": [
      "torch.Size([100, 1, 50, 50]) torch.Size([100, 2])\n",
      "torch.Size([100, 2])\n",
      "torch.Size([100, 1, 50, 50]) torch.Size([100, 2])\n",
      "torch.Size([100, 2])\n"
     ]
    },
    {
     "name": "stderr",
     "output_type": "stream",
     "text": [
      "\n",
      " 48%|████▊     | 108/225 [00:19<00:16,  6.94it/s]\u001b[A\n",
      " 48%|████▊     | 109/225 [00:19<00:16,  7.16it/s]\u001b[A"
     ]
    },
    {
     "name": "stdout",
     "output_type": "stream",
     "text": [
      "torch.Size([100, 1, 50, 50]) torch.Size([100, 2])\n",
      "torch.Size([100, 2])\n",
      "torch.Size([100, 1, 50, 50]) torch.Size([100, 2])\n",
      "torch.Size([100, 2])\n"
     ]
    },
    {
     "name": "stderr",
     "output_type": "stream",
     "text": [
      "\n",
      " 49%|████▉     | 110/225 [00:19<00:15,  7.33it/s]\u001b[A\n",
      " 49%|████▉     | 111/225 [00:19<00:15,  7.48it/s]\u001b[A"
     ]
    },
    {
     "name": "stdout",
     "output_type": "stream",
     "text": [
      "torch.Size([100, 1, 50, 50]) torch.Size([100, 2])\n",
      "torch.Size([100, 2])\n",
      "torch.Size([100, 1, 50, 50]) torch.Size([100, 2])\n",
      "torch.Size([100, 2])\n"
     ]
    },
    {
     "name": "stderr",
     "output_type": "stream",
     "text": [
      "\n",
      " 50%|████▉     | 112/225 [00:19<00:15,  7.51it/s]\u001b[A\n",
      " 50%|█████     | 113/225 [00:19<00:14,  7.51it/s]\u001b[A"
     ]
    },
    {
     "name": "stdout",
     "output_type": "stream",
     "text": [
      "torch.Size([100, 1, 50, 50]) torch.Size([100, 2])\n",
      "torch.Size([100, 2])\n",
      "torch.Size([100, 1, 50, 50]) torch.Size([100, 2])\n",
      "torch.Size([100, 2])\n"
     ]
    },
    {
     "name": "stderr",
     "output_type": "stream",
     "text": [
      "\n",
      " 51%|█████     | 114/225 [00:19<00:14,  7.46it/s]\u001b[A\n",
      " 51%|█████     | 115/225 [00:20<00:16,  6.53it/s]\u001b[A"
     ]
    },
    {
     "name": "stdout",
     "output_type": "stream",
     "text": [
      "torch.Size([100, 1, 50, 50]) torch.Size([100, 2])\n",
      "torch.Size([100, 2])\n",
      "torch.Size([100, 1, 50, 50]) torch.Size([100, 2])\n"
     ]
    },
    {
     "name": "stderr",
     "output_type": "stream",
     "text": [
      "\n",
      " 52%|█████▏    | 116/225 [00:20<00:17,  6.08it/s]\u001b[A"
     ]
    },
    {
     "name": "stdout",
     "output_type": "stream",
     "text": [
      "torch.Size([100, 2])\n",
      "torch.Size([100, 1, 50, 50]) torch.Size([100, 2])\n"
     ]
    },
    {
     "name": "stderr",
     "output_type": "stream",
     "text": [
      "\n",
      " 52%|█████▏    | 117/225 [00:20<00:19,  5.42it/s]\u001b[A"
     ]
    },
    {
     "name": "stdout",
     "output_type": "stream",
     "text": [
      "torch.Size([100, 2])\n",
      "torch.Size([100, 1, 50, 50]) torch.Size([100, 2])\n"
     ]
    },
    {
     "name": "stderr",
     "output_type": "stream",
     "text": [
      "\n",
      " 52%|█████▏    | 118/225 [00:20<00:19,  5.52it/s]\u001b[A"
     ]
    },
    {
     "name": "stdout",
     "output_type": "stream",
     "text": [
      "torch.Size([100, 2])\n",
      "torch.Size([100, 1, 50, 50]) torch.Size([100, 2])\n",
      "torch.Size([100, 2])\n"
     ]
    },
    {
     "name": "stderr",
     "output_type": "stream",
     "text": [
      "\n",
      " 53%|█████▎    | 119/225 [00:20<00:17,  6.01it/s]\u001b[A\n",
      " 53%|█████▎    | 120/225 [00:21<00:16,  6.39it/s]\u001b[A"
     ]
    },
    {
     "name": "stdout",
     "output_type": "stream",
     "text": [
      "torch.Size([100, 1, 50, 50]) torch.Size([100, 2])\n",
      "torch.Size([100, 2])\n",
      "torch.Size([100, 1, 50, 50]) torch.Size([100, 2])\n",
      "torch.Size([100, 2])\n"
     ]
    },
    {
     "name": "stderr",
     "output_type": "stream",
     "text": [
      "\n",
      " 54%|█████▍    | 121/225 [00:21<00:15,  6.66it/s]\u001b[A\n",
      " 54%|█████▍    | 122/225 [00:21<00:14,  6.92it/s]\u001b[A"
     ]
    },
    {
     "name": "stdout",
     "output_type": "stream",
     "text": [
      "torch.Size([100, 1, 50, 50]) torch.Size([100, 2])\n",
      "torch.Size([100, 2])\n",
      "torch.Size([100, 1, 50, 50]) torch.Size([100, 2])\n",
      "torch.Size([100, 2])\n"
     ]
    },
    {
     "name": "stderr",
     "output_type": "stream",
     "text": [
      "\n",
      " 55%|█████▍    | 123/225 [00:21<00:14,  6.89it/s]\u001b[A\n",
      " 55%|█████▌    | 124/225 [00:21<00:14,  7.02it/s]\u001b[A"
     ]
    },
    {
     "name": "stdout",
     "output_type": "stream",
     "text": [
      "torch.Size([100, 1, 50, 50]) torch.Size([100, 2])\n",
      "torch.Size([100, 2])\n",
      "torch.Size([100, 1, 50, 50]) torch.Size([100, 2])\n",
      "torch.Size([100, 2])\n"
     ]
    },
    {
     "name": "stderr",
     "output_type": "stream",
     "text": [
      "\n",
      " 56%|█████▌    | 125/225 [00:21<00:14,  6.73it/s]\u001b[A\n",
      " 56%|█████▌    | 126/225 [00:21<00:14,  6.81it/s]\u001b[A"
     ]
    },
    {
     "name": "stdout",
     "output_type": "stream",
     "text": [
      "torch.Size([100, 1, 50, 50]) torch.Size([100, 2])\n",
      "torch.Size([100, 2])\n",
      "torch.Size([100, 1, 50, 50]) torch.Size([100, 2])\n"
     ]
    },
    {
     "name": "stderr",
     "output_type": "stream",
     "text": [
      "\n",
      " 56%|█████▋    | 127/225 [00:22<00:15,  6.53it/s]\u001b[A"
     ]
    },
    {
     "name": "stdout",
     "output_type": "stream",
     "text": [
      "torch.Size([100, 2])\n",
      "torch.Size([100, 1, 50, 50]) torch.Size([100, 2])\n",
      "torch.Size([100, 2])\n"
     ]
    },
    {
     "name": "stderr",
     "output_type": "stream",
     "text": [
      "\n",
      " 57%|█████▋    | 128/225 [00:22<00:14,  6.82it/s]\u001b[A\n",
      " 57%|█████▋    | 129/225 [00:22<00:13,  7.03it/s]\u001b[A"
     ]
    },
    {
     "name": "stdout",
     "output_type": "stream",
     "text": [
      "torch.Size([100, 1, 50, 50]) torch.Size([100, 2])\n",
      "torch.Size([100, 2])\n",
      "torch.Size([100, 1, 50, 50]) torch.Size([100, 2])\n",
      "torch.Size([100, 2])\n"
     ]
    },
    {
     "name": "stderr",
     "output_type": "stream",
     "text": [
      "\n",
      " 58%|█████▊    | 130/225 [00:22<00:13,  7.16it/s]\u001b[A\n",
      " 58%|█████▊    | 131/225 [00:22<00:12,  7.26it/s]\u001b[A"
     ]
    },
    {
     "name": "stdout",
     "output_type": "stream",
     "text": [
      "torch.Size([100, 1, 50, 50]) torch.Size([100, 2])\n",
      "torch.Size([100, 2])\n",
      "torch.Size([100, 1, 50, 50]) torch.Size([100, 2])\n",
      "torch.Size([100, 2])\n"
     ]
    },
    {
     "name": "stderr",
     "output_type": "stream",
     "text": [
      "\n",
      " 59%|█████▊    | 132/225 [00:22<00:13,  6.82it/s]\u001b[A\n",
      " 59%|█████▉    | 133/225 [00:22<00:13,  6.70it/s]\u001b[A"
     ]
    },
    {
     "name": "stdout",
     "output_type": "stream",
     "text": [
      "torch.Size([100, 1, 50, 50]) torch.Size([100, 2])\n",
      "torch.Size([100, 2])\n",
      "torch.Size([100, 1, 50, 50]) torch.Size([100, 2])\n"
     ]
    },
    {
     "name": "stderr",
     "output_type": "stream",
     "text": [
      "\n",
      " 60%|█████▉    | 134/225 [00:23<00:15,  5.83it/s]\u001b[A"
     ]
    },
    {
     "name": "stdout",
     "output_type": "stream",
     "text": [
      "torch.Size([100, 2])\n",
      "torch.Size([100, 1, 50, 50]) torch.Size([100, 2])\n"
     ]
    },
    {
     "name": "stderr",
     "output_type": "stream",
     "text": [
      "\n",
      " 60%|██████    | 135/225 [00:23<00:17,  5.26it/s]\u001b[A"
     ]
    },
    {
     "name": "stdout",
     "output_type": "stream",
     "text": [
      "torch.Size([100, 2])\n",
      "torch.Size([100, 1, 50, 50]) torch.Size([100, 2])\n"
     ]
    },
    {
     "name": "stderr",
     "output_type": "stream",
     "text": [
      "\n",
      " 60%|██████    | 136/225 [00:23<00:17,  4.98it/s]\u001b[A"
     ]
    },
    {
     "name": "stdout",
     "output_type": "stream",
     "text": [
      "torch.Size([100, 2])\n",
      "torch.Size([100, 1, 50, 50]) torch.Size([100, 2])\n"
     ]
    },
    {
     "name": "stderr",
     "output_type": "stream",
     "text": [
      "\n",
      " 61%|██████    | 137/225 [00:23<00:17,  4.94it/s]\u001b[A"
     ]
    },
    {
     "name": "stdout",
     "output_type": "stream",
     "text": [
      "torch.Size([100, 2])\n",
      "torch.Size([100, 1, 50, 50]) torch.Size([100, 2])\n",
      "torch.Size([100, 2])\n"
     ]
    },
    {
     "name": "stderr",
     "output_type": "stream",
     "text": [
      "\n",
      " 61%|██████▏   | 138/225 [00:23<00:16,  5.13it/s]\u001b[A\n",
      " 62%|██████▏   | 139/225 [00:24<00:15,  5.40it/s]\u001b[A"
     ]
    },
    {
     "name": "stdout",
     "output_type": "stream",
     "text": [
      "torch.Size([100, 1, 50, 50]) torch.Size([100, 2])\n",
      "torch.Size([100, 2])\n",
      "torch.Size([100, 1, 50, 50]) torch.Size([100, 2])\n"
     ]
    },
    {
     "name": "stderr",
     "output_type": "stream",
     "text": [
      "\n",
      " 62%|██████▏   | 140/225 [00:24<00:15,  5.64it/s]\u001b[A"
     ]
    },
    {
     "name": "stdout",
     "output_type": "stream",
     "text": [
      "torch.Size([100, 2])\n",
      "torch.Size([100, 1, 50, 50]) torch.Size([100, 2])\n",
      "torch.Size([100, 2])\n"
     ]
    },
    {
     "name": "stderr",
     "output_type": "stream",
     "text": [
      "\n",
      " 63%|██████▎   | 141/225 [00:24<00:14,  5.78it/s]\u001b[A\n",
      " 63%|██████▎   | 142/225 [00:24<00:14,  5.93it/s]\u001b[A"
     ]
    },
    {
     "name": "stdout",
     "output_type": "stream",
     "text": [
      "torch.Size([100, 1, 50, 50]) torch.Size([100, 2])\n",
      "torch.Size([100, 2])\n",
      "torch.Size([100, 1, 50, 50]) torch.Size([100, 2])\n"
     ]
    },
    {
     "name": "stderr",
     "output_type": "stream",
     "text": [
      "\n",
      " 64%|██████▎   | 143/225 [00:24<00:14,  5.67it/s]\u001b[A"
     ]
    },
    {
     "name": "stdout",
     "output_type": "stream",
     "text": [
      "torch.Size([100, 2])\n",
      "torch.Size([100, 1, 50, 50]) torch.Size([100, 2])\n",
      "torch.Size([100, 2])\n"
     ]
    },
    {
     "name": "stderr",
     "output_type": "stream",
     "text": [
      "\n",
      " 64%|██████▍   | 144/225 [00:24<00:13,  5.98it/s]\u001b[A\n",
      " 64%|██████▍   | 145/225 [00:25<00:13,  5.90it/s]\u001b[A"
     ]
    },
    {
     "name": "stdout",
     "output_type": "stream",
     "text": [
      "torch.Size([100, 1, 50, 50]) torch.Size([100, 2])\n",
      "torch.Size([100, 2])\n",
      "torch.Size([100, 1, 50, 50]) torch.Size([100, 2])\n"
     ]
    },
    {
     "name": "stderr",
     "output_type": "stream",
     "text": [
      "\n",
      " 65%|██████▍   | 146/225 [00:25<00:12,  6.13it/s]\u001b[A"
     ]
    },
    {
     "name": "stdout",
     "output_type": "stream",
     "text": [
      "torch.Size([100, 2])\n",
      "torch.Size([100, 1, 50, 50]) torch.Size([100, 2])\n",
      "torch.Size([100, 2])\n"
     ]
    },
    {
     "name": "stderr",
     "output_type": "stream",
     "text": [
      "\n",
      " 65%|██████▌   | 147/225 [00:25<00:12,  6.05it/s]\u001b[A\n",
      " 66%|██████▌   | 148/225 [00:25<00:11,  6.42it/s]\u001b[A"
     ]
    },
    {
     "name": "stdout",
     "output_type": "stream",
     "text": [
      "torch.Size([100, 1, 50, 50]) torch.Size([100, 2])\n",
      "torch.Size([100, 2])\n",
      "torch.Size([100, 1, 50, 50]) torch.Size([100, 2])\n"
     ]
    },
    {
     "name": "stderr",
     "output_type": "stream",
     "text": [
      "\n",
      " 66%|██████▌   | 149/225 [00:25<00:12,  5.97it/s]\u001b[A"
     ]
    },
    {
     "name": "stdout",
     "output_type": "stream",
     "text": [
      "torch.Size([100, 2])\n",
      "torch.Size([100, 1, 50, 50]) torch.Size([100, 2])\n",
      "torch.Size([100, 2])\n"
     ]
    },
    {
     "name": "stderr",
     "output_type": "stream",
     "text": [
      "\n",
      " 67%|██████▋   | 150/225 [00:25<00:12,  5.85it/s]\u001b[A\n",
      " 67%|██████▋   | 151/225 [00:26<00:13,  5.63it/s]\u001b[A"
     ]
    },
    {
     "name": "stdout",
     "output_type": "stream",
     "text": [
      "torch.Size([100, 1, 50, 50]) torch.Size([100, 2])\n",
      "torch.Size([100, 2])\n"
     ]
    },
    {
     "name": "stderr",
     "output_type": "stream",
     "text": [
      "\n",
      " 68%|██████▊   | 152/225 [00:26<00:12,  5.79it/s]\u001b[A"
     ]
    },
    {
     "name": "stdout",
     "output_type": "stream",
     "text": [
      "torch.Size([100, 1, 50, 50]) torch.Size([100, 2])\n",
      "torch.Size([100, 2])\n",
      "torch.Size([100, 1, 50, 50]) torch.Size([100, 2])\n",
      "torch.Size([100, 2])\n"
     ]
    },
    {
     "name": "stderr",
     "output_type": "stream",
     "text": [
      "\n",
      " 68%|██████▊   | 153/225 [00:26<00:11,  6.09it/s]\u001b[A\n",
      " 68%|██████▊   | 154/225 [00:26<00:11,  6.24it/s]\u001b[A"
     ]
    },
    {
     "name": "stdout",
     "output_type": "stream",
     "text": [
      "torch.Size([100, 1, 50, 50]) torch.Size([100, 2])\n",
      "torch.Size([100, 2])\n",
      "torch.Size([100, 1, 50, 50]) torch.Size([100, 2])\n"
     ]
    },
    {
     "name": "stderr",
     "output_type": "stream",
     "text": [
      "\n",
      " 69%|██████▉   | 155/225 [00:26<00:11,  5.84it/s]\u001b[A"
     ]
    },
    {
     "name": "stdout",
     "output_type": "stream",
     "text": [
      "torch.Size([100, 2])\n",
      "torch.Size([100, 1, 50, 50]) torch.Size([100, 2])\n",
      "torch.Size([100, 2])\n"
     ]
    },
    {
     "name": "stderr",
     "output_type": "stream",
     "text": [
      "\n",
      " 69%|██████▉   | 156/225 [00:27<00:11,  5.79it/s]\u001b[A\n",
      " 70%|██████▉   | 157/225 [00:27<00:11,  6.06it/s]\u001b[A"
     ]
    },
    {
     "name": "stdout",
     "output_type": "stream",
     "text": [
      "torch.Size([100, 1, 50, 50]) torch.Size([100, 2])\n",
      "torch.Size([100, 2])\n",
      "torch.Size([100, 1, 50, 50]) torch.Size([100, 2])\n",
      "torch.Size([100, 2])\n"
     ]
    },
    {
     "name": "stderr",
     "output_type": "stream",
     "text": [
      "\n",
      " 70%|███████   | 158/225 [00:27<00:10,  6.23it/s]\u001b[A\n",
      " 71%|███████   | 159/225 [00:27<00:10,  6.12it/s]\u001b[A"
     ]
    },
    {
     "name": "stdout",
     "output_type": "stream",
     "text": [
      "torch.Size([100, 1, 50, 50]) torch.Size([100, 2])\n",
      "torch.Size([100, 2])\n",
      "torch.Size([100, 1, 50, 50]) torch.Size([100, 2])\n"
     ]
    },
    {
     "name": "stderr",
     "output_type": "stream",
     "text": [
      "\n",
      " 71%|███████   | 160/225 [00:27<00:11,  5.90it/s]\u001b[A"
     ]
    },
    {
     "name": "stdout",
     "output_type": "stream",
     "text": [
      "torch.Size([100, 2])\n",
      "torch.Size([100, 1, 50, 50]) torch.Size([100, 2])\n",
      "torch.Size([100, 2])\n"
     ]
    },
    {
     "name": "stderr",
     "output_type": "stream",
     "text": [
      "\n",
      " 72%|███████▏  | 161/225 [00:27<00:11,  5.58it/s]\u001b[A\n",
      " 72%|███████▏  | 162/225 [00:27<00:10,  5.98it/s]\u001b[A"
     ]
    },
    {
     "name": "stdout",
     "output_type": "stream",
     "text": [
      "torch.Size([100, 1, 50, 50]) torch.Size([100, 2])\n",
      "torch.Size([100, 2])\n",
      "torch.Size([100, 1, 50, 50]) torch.Size([100, 2])\n"
     ]
    },
    {
     "name": "stderr",
     "output_type": "stream",
     "text": [
      "\n",
      " 72%|███████▏  | 163/225 [00:28<00:10,  5.79it/s]\u001b[A"
     ]
    },
    {
     "name": "stdout",
     "output_type": "stream",
     "text": [
      "torch.Size([100, 2])\n",
      "torch.Size([100, 1, 50, 50]) torch.Size([100, 2])\n",
      "torch.Size([100, 2])\n"
     ]
    },
    {
     "name": "stderr",
     "output_type": "stream",
     "text": [
      "\n",
      " 73%|███████▎  | 164/225 [00:28<00:10,  5.98it/s]\u001b[A"
     ]
    },
    {
     "name": "stdout",
     "output_type": "stream",
     "text": [
      "torch.Size([100, 1, 50, 50]) torch.Size([100, 2])\n",
      "torch.Size([100, 2])\n"
     ]
    },
    {
     "name": "stderr",
     "output_type": "stream",
     "text": [
      "\n",
      " 73%|███████▎  | 165/225 [00:28<00:10,  5.47it/s]\u001b[A"
     ]
    },
    {
     "name": "stdout",
     "output_type": "stream",
     "text": [
      "torch.Size([100, 1, 50, 50]) torch.Size([100, 2])\n",
      "torch.Size([100, 2])\n"
     ]
    },
    {
     "name": "stderr",
     "output_type": "stream",
     "text": [
      "\n",
      " 74%|███████▍  | 166/225 [00:28<00:11,  5.14it/s]\u001b[A\n",
      " 74%|███████▍  | 167/225 [00:28<00:11,  5.22it/s]\u001b[A"
     ]
    },
    {
     "name": "stdout",
     "output_type": "stream",
     "text": [
      "torch.Size([100, 1, 50, 50]) torch.Size([100, 2])\n",
      "torch.Size([100, 2])\n",
      "torch.Size([100, 1, 50, 50]) torch.Size([100, 2])\n"
     ]
    },
    {
     "name": "stderr",
     "output_type": "stream",
     "text": [
      "\n",
      " 75%|███████▍  | 168/225 [00:29<00:10,  5.54it/s]\u001b[A"
     ]
    },
    {
     "name": "stdout",
     "output_type": "stream",
     "text": [
      "torch.Size([100, 2])\n",
      "torch.Size([100, 1, 50, 50]) torch.Size([100, 2])\n",
      "torch.Size([100, 2])\n"
     ]
    },
    {
     "name": "stderr",
     "output_type": "stream",
     "text": [
      "\n",
      " 75%|███████▌  | 169/225 [00:29<00:10,  5.42it/s]\u001b[A"
     ]
    },
    {
     "name": "stdout",
     "output_type": "stream",
     "text": [
      "torch.Size([100, 1, 50, 50]) torch.Size([100, 2])\n",
      "torch.Size([100, 2])\n"
     ]
    },
    {
     "name": "stderr",
     "output_type": "stream",
     "text": [
      "\n",
      " 76%|███████▌  | 170/225 [00:29<00:11,  4.73it/s]\u001b[A"
     ]
    },
    {
     "name": "stdout",
     "output_type": "stream",
     "text": [
      "torch.Size([100, 1, 50, 50]) torch.Size([100, 2])\n",
      "torch.Size([100, 2])\n"
     ]
    },
    {
     "name": "stderr",
     "output_type": "stream",
     "text": [
      "\n",
      " 76%|███████▌  | 171/225 [00:29<00:12,  4.40it/s]\u001b[A\n",
      " 76%|███████▋  | 172/225 [00:30<00:11,  4.75it/s]\u001b[A"
     ]
    },
    {
     "name": "stdout",
     "output_type": "stream",
     "text": [
      "torch.Size([100, 1, 50, 50]) torch.Size([100, 2])\n",
      "torch.Size([100, 2])\n",
      "torch.Size([100, 1, 50, 50]) torch.Size([100, 2])\n"
     ]
    },
    {
     "name": "stderr",
     "output_type": "stream",
     "text": [
      "\n",
      " 77%|███████▋  | 173/225 [00:30<00:09,  5.26it/s]\u001b[A"
     ]
    },
    {
     "name": "stdout",
     "output_type": "stream",
     "text": [
      "torch.Size([100, 2])\n",
      "torch.Size([100, 1, 50, 50]) torch.Size([100, 2])\n",
      "torch.Size([100, 2])\n"
     ]
    },
    {
     "name": "stderr",
     "output_type": "stream",
     "text": [
      "\n",
      " 77%|███████▋  | 174/225 [00:30<00:10,  4.91it/s]\u001b[A"
     ]
    },
    {
     "name": "stdout",
     "output_type": "stream",
     "text": [
      "torch.Size([100, 1, 50, 50]) torch.Size([100, 2])\n",
      "torch.Size([100, 2])\n"
     ]
    },
    {
     "name": "stderr",
     "output_type": "stream",
     "text": [
      "\n",
      " 78%|███████▊  | 175/225 [00:30<00:10,  4.81it/s]\u001b[A\n",
      " 78%|███████▊  | 176/225 [00:30<00:10,  4.88it/s]\u001b[A"
     ]
    },
    {
     "name": "stdout",
     "output_type": "stream",
     "text": [
      "torch.Size([100, 1, 50, 50]) torch.Size([100, 2])\n",
      "torch.Size([100, 2])\n",
      "torch.Size([100, 1, 50, 50]) torch.Size([100, 2])\n"
     ]
    },
    {
     "name": "stderr",
     "output_type": "stream",
     "text": [
      "\n",
      " 79%|███████▊  | 177/225 [00:31<00:09,  4.96it/s]\u001b[A"
     ]
    },
    {
     "name": "stdout",
     "output_type": "stream",
     "text": [
      "torch.Size([100, 2])\n",
      "torch.Size([100, 1, 50, 50]) torch.Size([100, 2])\n",
      "torch.Size([100, 2])\n"
     ]
    },
    {
     "name": "stderr",
     "output_type": "stream",
     "text": [
      "\n",
      " 79%|███████▉  | 178/225 [00:31<00:08,  5.34it/s]\u001b[A"
     ]
    },
    {
     "name": "stdout",
     "output_type": "stream",
     "text": [
      "torch.Size([100, 1, 50, 50]) torch.Size([100, 2])\n",
      "torch.Size([100, 2])\n"
     ]
    },
    {
     "name": "stderr",
     "output_type": "stream",
     "text": [
      "\n",
      " 80%|███████▉  | 179/225 [00:31<00:09,  5.01it/s]\u001b[A\n",
      " 80%|████████  | 180/225 [00:31<00:08,  5.05it/s]\u001b[A"
     ]
    },
    {
     "name": "stdout",
     "output_type": "stream",
     "text": [
      "torch.Size([100, 1, 50, 50]) torch.Size([100, 2])\n",
      "torch.Size([100, 2])\n"
     ]
    },
    {
     "name": "stderr",
     "output_type": "stream",
     "text": [
      "\n",
      " 80%|████████  | 181/225 [00:31<00:08,  4.90it/s]\u001b[A"
     ]
    },
    {
     "name": "stdout",
     "output_type": "stream",
     "text": [
      "torch.Size([100, 1, 50, 50]) torch.Size([100, 2])\n",
      "torch.Size([100, 2])\n",
      "torch.Size([100, 1, 50, 50]) torch.Size([100, 2])\n"
     ]
    },
    {
     "name": "stderr",
     "output_type": "stream",
     "text": [
      "\n",
      " 81%|████████  | 182/225 [00:32<00:09,  4.53it/s]\u001b[A"
     ]
    },
    {
     "name": "stdout",
     "output_type": "stream",
     "text": [
      "torch.Size([100, 2])\n",
      "torch.Size([100, 1, 50, 50]) torch.Size([100, 2])\n"
     ]
    },
    {
     "name": "stderr",
     "output_type": "stream",
     "text": [
      "\n",
      " 81%|████████▏ | 183/225 [00:32<00:09,  4.32it/s]\u001b[A"
     ]
    },
    {
     "name": "stdout",
     "output_type": "stream",
     "text": [
      "torch.Size([100, 2])\n",
      "torch.Size([100, 1, 50, 50]) torch.Size([100, 2])\n"
     ]
    },
    {
     "name": "stderr",
     "output_type": "stream",
     "text": [
      "\n",
      " 82%|████████▏ | 184/225 [00:32<00:09,  4.17it/s]\u001b[A"
     ]
    },
    {
     "name": "stdout",
     "output_type": "stream",
     "text": [
      "torch.Size([100, 2])\n",
      "torch.Size([100, 1, 50, 50]) torch.Size([100, 2])\n"
     ]
    },
    {
     "name": "stderr",
     "output_type": "stream",
     "text": [
      "\n",
      " 82%|████████▏ | 185/225 [00:32<00:08,  4.67it/s]\u001b[A"
     ]
    },
    {
     "name": "stdout",
     "output_type": "stream",
     "text": [
      "torch.Size([100, 2])\n",
      "torch.Size([100, 1, 50, 50]) torch.Size([100, 2])\n",
      "torch.Size([100, 2])\n"
     ]
    },
    {
     "name": "stderr",
     "output_type": "stream",
     "text": [
      "\n",
      " 83%|████████▎ | 186/225 [00:32<00:08,  4.60it/s]\u001b[A"
     ]
    },
    {
     "name": "stdout",
     "output_type": "stream",
     "text": [
      "torch.Size([100, 1, 50, 50]) torch.Size([100, 2])\n",
      "torch.Size([100, 2])\n"
     ]
    },
    {
     "name": "stderr",
     "output_type": "stream",
     "text": [
      "\n",
      " 83%|████████▎ | 187/225 [00:33<00:08,  4.63it/s]\u001b[A\n",
      " 84%|████████▎ | 188/225 [00:33<00:07,  4.81it/s]\u001b[A"
     ]
    },
    {
     "name": "stdout",
     "output_type": "stream",
     "text": [
      "torch.Size([100, 1, 50, 50]) torch.Size([100, 2])\n",
      "torch.Size([100, 2])\n",
      "torch.Size([100, 1, 50, 50]) torch.Size([100, 2])\n"
     ]
    },
    {
     "name": "stderr",
     "output_type": "stream",
     "text": [
      "\n",
      " 84%|████████▍ | 189/225 [00:33<00:06,  5.16it/s]\u001b[A"
     ]
    },
    {
     "name": "stdout",
     "output_type": "stream",
     "text": [
      "torch.Size([100, 2])\n",
      "torch.Size([100, 1, 50, 50]) torch.Size([100, 2])\n",
      "torch.Size([100, 2])\n"
     ]
    },
    {
     "name": "stderr",
     "output_type": "stream",
     "text": [
      "\n",
      " 84%|████████▍ | 190/225 [00:33<00:06,  5.26it/s]\u001b[A\n",
      " 85%|████████▍ | 191/225 [00:33<00:06,  5.30it/s]\u001b[A"
     ]
    },
    {
     "name": "stdout",
     "output_type": "stream",
     "text": [
      "torch.Size([100, 1, 50, 50]) torch.Size([100, 2])\n",
      "torch.Size([100, 2])\n",
      "torch.Size([100, 1, 50, 50]) torch.Size([100, 2])\n"
     ]
    },
    {
     "name": "stderr",
     "output_type": "stream",
     "text": [
      "\n",
      " 85%|████████▌ | 192/225 [00:34<00:06,  5.34it/s]\u001b[A"
     ]
    },
    {
     "name": "stdout",
     "output_type": "stream",
     "text": [
      "torch.Size([100, 2])\n",
      "torch.Size([100, 1, 50, 50]) torch.Size([100, 2])\n",
      "torch.Size([100, 2])\n"
     ]
    },
    {
     "name": "stderr",
     "output_type": "stream",
     "text": [
      "\n",
      " 86%|████████▌ | 193/225 [00:34<00:05,  5.42it/s]\u001b[A\n",
      " 86%|████████▌ | 194/225 [00:34<00:05,  5.63it/s]\u001b[A"
     ]
    },
    {
     "name": "stdout",
     "output_type": "stream",
     "text": [
      "torch.Size([100, 1, 50, 50]) torch.Size([100, 2])\n",
      "torch.Size([100, 2])\n",
      "torch.Size([100, 1, 50, 50]) torch.Size([100, 2])\n"
     ]
    },
    {
     "name": "stderr",
     "output_type": "stream",
     "text": [
      "\n",
      " 87%|████████▋ | 195/225 [00:34<00:05,  5.66it/s]\u001b[A"
     ]
    },
    {
     "name": "stdout",
     "output_type": "stream",
     "text": [
      "torch.Size([100, 2])\n",
      "torch.Size([100, 1, 50, 50]) torch.Size([100, 2])\n",
      "torch.Size([100, 2])\n"
     ]
    },
    {
     "name": "stderr",
     "output_type": "stream",
     "text": [
      "\n",
      " 87%|████████▋ | 196/225 [00:34<00:05,  4.98it/s]\u001b[A\n",
      " 88%|████████▊ | 197/225 [00:35<00:05,  5.22it/s]\u001b[A"
     ]
    },
    {
     "name": "stdout",
     "output_type": "stream",
     "text": [
      "torch.Size([100, 1, 50, 50]) torch.Size([100, 2])\n",
      "torch.Size([100, 2])\n",
      "torch.Size([100, 1, 50, 50]) torch.Size([100, 2])\n"
     ]
    },
    {
     "name": "stderr",
     "output_type": "stream",
     "text": [
      "\n",
      " 88%|████████▊ | 198/225 [00:35<00:05,  4.70it/s]\u001b[A"
     ]
    },
    {
     "name": "stdout",
     "output_type": "stream",
     "text": [
      "torch.Size([100, 2])\n",
      "torch.Size([100, 1, 50, 50]) torch.Size([100, 2])\n",
      "torch.Size([100, 2])\n"
     ]
    },
    {
     "name": "stderr",
     "output_type": "stream",
     "text": [
      "\n",
      " 88%|████████▊ | 199/225 [00:35<00:06,  4.11it/s]\u001b[A\n",
      " 89%|████████▉ | 200/225 [00:35<00:05,  4.44it/s]\u001b[A"
     ]
    },
    {
     "name": "stdout",
     "output_type": "stream",
     "text": [
      "torch.Size([100, 1, 50, 50]) torch.Size([100, 2])\n",
      "torch.Size([100, 2])\n",
      "torch.Size([100, 1, 50, 50]) torch.Size([100, 2])\n"
     ]
    },
    {
     "name": "stderr",
     "output_type": "stream",
     "text": [
      "\n",
      " 89%|████████▉ | 201/225 [00:35<00:05,  4.68it/s]\u001b[A"
     ]
    },
    {
     "name": "stdout",
     "output_type": "stream",
     "text": [
      "torch.Size([100, 2])\n",
      "torch.Size([100, 1, 50, 50]) torch.Size([100, 2])\n",
      "torch.Size([100, 2])\n"
     ]
    },
    {
     "name": "stderr",
     "output_type": "stream",
     "text": [
      "\n",
      " 90%|████████▉ | 202/225 [00:36<00:04,  5.00it/s]\u001b[A\n",
      " 90%|█████████ | 203/225 [00:36<00:04,  5.38it/s]\u001b[A"
     ]
    },
    {
     "name": "stdout",
     "output_type": "stream",
     "text": [
      "torch.Size([100, 1, 50, 50]) torch.Size([100, 2])\n",
      "torch.Size([100, 2])\n",
      "torch.Size([100, 1, 50, 50]) torch.Size([100, 2])\n"
     ]
    },
    {
     "name": "stderr",
     "output_type": "stream",
     "text": [
      "\n",
      " 91%|█████████ | 204/225 [00:36<00:03,  5.27it/s]\u001b[A"
     ]
    },
    {
     "name": "stdout",
     "output_type": "stream",
     "text": [
      "torch.Size([100, 2])\n",
      "torch.Size([100, 1, 50, 50]) torch.Size([100, 2])\n"
     ]
    },
    {
     "name": "stderr",
     "output_type": "stream",
     "text": [
      "\n",
      " 91%|█████████ | 205/225 [00:36<00:03,  5.30it/s]\u001b[A"
     ]
    },
    {
     "name": "stdout",
     "output_type": "stream",
     "text": [
      "torch.Size([100, 2])\n",
      "torch.Size([100, 1, 50, 50]) torch.Size([100, 2])\n",
      "torch.Size([100, 2])\n"
     ]
    },
    {
     "name": "stderr",
     "output_type": "stream",
     "text": [
      "\n",
      " 92%|█████████▏| 206/225 [00:36<00:03,  5.61it/s]\u001b[A\n",
      " 92%|█████████▏| 207/225 [00:36<00:03,  5.83it/s]\u001b[A"
     ]
    },
    {
     "name": "stdout",
     "output_type": "stream",
     "text": [
      "torch.Size([100, 1, 50, 50]) torch.Size([100, 2])\n",
      "torch.Size([100, 2])\n",
      "torch.Size([100, 1, 50, 50]) torch.Size([100, 2])\n"
     ]
    },
    {
     "name": "stderr",
     "output_type": "stream",
     "text": [
      "\n",
      " 92%|█████████▏| 208/225 [00:37<00:02,  5.92it/s]\u001b[A"
     ]
    },
    {
     "name": "stdout",
     "output_type": "stream",
     "text": [
      "torch.Size([100, 2])\n",
      "torch.Size([100, 1, 50, 50]) torch.Size([100, 2])\n",
      "torch.Size([100, 2])\n"
     ]
    },
    {
     "name": "stderr",
     "output_type": "stream",
     "text": [
      "\n",
      " 93%|█████████▎| 209/225 [00:37<00:02,  5.89it/s]\u001b[A"
     ]
    },
    {
     "name": "stdout",
     "output_type": "stream",
     "text": [
      "torch.Size([100, 1, 50, 50]) torch.Size([100, 2])\n",
      "torch.Size([100, 2])\n"
     ]
    },
    {
     "name": "stderr",
     "output_type": "stream",
     "text": [
      "\n",
      " 93%|█████████▎| 210/225 [00:37<00:02,  5.38it/s]\u001b[A"
     ]
    },
    {
     "name": "stdout",
     "output_type": "stream",
     "text": [
      "torch.Size([100, 1, 50, 50]) torch.Size([100, 2])\n",
      "torch.Size([100, 2])\n"
     ]
    },
    {
     "name": "stderr",
     "output_type": "stream",
     "text": [
      "\n",
      " 94%|█████████▍| 211/225 [00:37<00:02,  4.68it/s]\u001b[A\n",
      " 94%|█████████▍| 212/225 [00:37<00:02,  5.15it/s]\u001b[A"
     ]
    },
    {
     "name": "stdout",
     "output_type": "stream",
     "text": [
      "torch.Size([100, 1, 50, 50]) torch.Size([100, 2])\n",
      "torch.Size([100, 2])\n",
      "torch.Size([100, 1, 50, 50]) torch.Size([100, 2])\n"
     ]
    },
    {
     "name": "stderr",
     "output_type": "stream",
     "text": [
      "\n",
      " 95%|█████████▍| 213/225 [00:38<00:02,  5.27it/s]\u001b[A"
     ]
    },
    {
     "name": "stdout",
     "output_type": "stream",
     "text": [
      "torch.Size([100, 2])\n",
      "torch.Size([100, 1, 50, 50]) torch.Size([100, 2])\n",
      "torch.Size([100, 2])\n"
     ]
    },
    {
     "name": "stderr",
     "output_type": "stream",
     "text": [
      "\n",
      " 95%|█████████▌| 214/225 [00:38<00:02,  5.19it/s]\u001b[A\n",
      " 96%|█████████▌| 215/225 [00:38<00:01,  5.28it/s]\u001b[A"
     ]
    },
    {
     "name": "stdout",
     "output_type": "stream",
     "text": [
      "torch.Size([100, 1, 50, 50]) torch.Size([100, 2])\n",
      "torch.Size([100, 2])\n",
      "torch.Size([100, 1, 50, 50]) torch.Size([100, 2])\n"
     ]
    },
    {
     "name": "stderr",
     "output_type": "stream",
     "text": [
      "\n",
      " 96%|█████████▌| 216/225 [00:38<00:01,  5.52it/s]\u001b[A"
     ]
    },
    {
     "name": "stdout",
     "output_type": "stream",
     "text": [
      "torch.Size([100, 2])\n",
      "torch.Size([100, 1, 50, 50]) torch.Size([100, 2])\n",
      "torch.Size([100, 2])\n"
     ]
    },
    {
     "name": "stderr",
     "output_type": "stream",
     "text": [
      "\n",
      " 96%|█████████▋| 217/225 [00:38<00:01,  5.86it/s]\u001b[A"
     ]
    },
    {
     "name": "stdout",
     "output_type": "stream",
     "text": [
      "torch.Size([100, 1, 50, 50]) torch.Size([100, 2])\n",
      "torch.Size([100, 2])\n"
     ]
    },
    {
     "name": "stderr",
     "output_type": "stream",
     "text": [
      "\n",
      " 97%|█████████▋| 218/225 [00:39<00:01,  5.04it/s]\u001b[A\n",
      " 97%|█████████▋| 219/225 [00:39<00:01,  5.29it/s]\u001b[A"
     ]
    },
    {
     "name": "stdout",
     "output_type": "stream",
     "text": [
      "torch.Size([100, 1, 50, 50]) torch.Size([100, 2])\n",
      "torch.Size([100, 2])\n",
      "torch.Size([100, 1, 50, 50]) torch.Size([100, 2])\n"
     ]
    },
    {
     "name": "stderr",
     "output_type": "stream",
     "text": [
      "\n",
      " 98%|█████████▊| 220/225 [00:39<00:00,  5.50it/s]\u001b[A"
     ]
    },
    {
     "name": "stdout",
     "output_type": "stream",
     "text": [
      "torch.Size([100, 2])\n",
      "torch.Size([100, 1, 50, 50]) torch.Size([100, 2])\n",
      "torch.Size([100, 2])\n"
     ]
    },
    {
     "name": "stderr",
     "output_type": "stream",
     "text": [
      "\n",
      " 98%|█████████▊| 221/225 [00:39<00:00,  5.54it/s]\u001b[A\n",
      " 99%|█████████▊| 222/225 [00:39<00:00,  5.68it/s]\u001b[A"
     ]
    },
    {
     "name": "stdout",
     "output_type": "stream",
     "text": [
      "torch.Size([100, 1, 50, 50]) torch.Size([100, 2])\n",
      "torch.Size([100, 2])\n",
      "torch.Size([100, 1, 50, 50]) torch.Size([100, 2])\n"
     ]
    },
    {
     "name": "stderr",
     "output_type": "stream",
     "text": [
      "\n",
      " 99%|█████████▉| 223/225 [00:39<00:00,  5.43it/s]\u001b[A"
     ]
    },
    {
     "name": "stdout",
     "output_type": "stream",
     "text": [
      "torch.Size([100, 2])\n",
      "torch.Size([100, 1, 50, 50]) torch.Size([100, 2])\n",
      "torch.Size([100, 2])\n"
     ]
    },
    {
     "name": "stderr",
     "output_type": "stream",
     "text": [
      "\n",
      "100%|█████████▉| 224/225 [00:40<00:00,  5.37it/s]\u001b[A\n",
      "100%|██████████| 225/225 [00:40<00:00,  5.58it/s]\u001b[A"
     ]
    },
    {
     "name": "stdout",
     "output_type": "stream",
     "text": [
      "torch.Size([52, 1, 50, 50]) torch.Size([52, 2])\n",
      "torch.Size([52, 2])\n",
      "Epoch: 0. Loss: 0.19713585078716278\n"
     ]
    },
    {
     "name": "stderr",
     "output_type": "stream",
     "text": [
      "\n"
     ]
    }
   ],
   "source": [
    "BATCH_SIZE = 100\n",
    "EPOCHS = 1\n",
    "\n",
    "for epoch in range(EPOCHS):\n",
    "    for i in tqdm(range(0, len(train_X), BATCH_SIZE)): # from 0, to the len of x, stepping BATCH_SIZE at a time. [:50] ..for now just to dev\n",
    "        batch_X = train_X[i:i+BATCH_SIZE].view(-1, 1, 50, 50)\n",
    "        batch_y = train_y[i:i+BATCH_SIZE]\n",
    "        net.zero_grad()\n",
    "        outputs = net(batch_X)\n",
    "        loss = loss_function(outputs, batch_y)\n",
    "        loss.backward()\n",
    "        optimizer.step()    # Does the update\n",
    "\n",
    "    print(f\"Epoch: {epoch}. Loss: {loss}\")\n"
   ]
  },
  {
   "cell_type": "markdown",
   "metadata": {},
   "source": [
    "# Test accuracy"
   ]
  },
  {
   "cell_type": "code",
   "execution_count": 38,
   "metadata": {},
   "outputs": [
    {
     "name": "stderr",
     "output_type": "stream",
     "text": [
      "\n",
      "  0%|          | 0/2494 [00:00<?, ?it/s]\u001b[A\n",
      "  1%|▏         | 32/2494 [00:00<00:07, 317.97it/s]\u001b[A\n",
      "  4%|▍         | 95/2494 [00:00<00:06, 373.27it/s]\u001b[A\n",
      "  7%|▋         | 169/2494 [00:00<00:05, 438.19it/s]\u001b[A\n",
      "  9%|▉         | 231/2494 [00:00<00:04, 479.95it/s]\u001b[A\n",
      " 12%|█▏        | 304/2494 [00:00<00:04, 534.05it/s]\u001b[A\n",
      " 15%|█▍        | 367/2494 [00:00<00:03, 559.00it/s]\u001b[A\n",
      " 18%|█▊        | 442/2494 [00:00<00:03, 603.74it/s]\u001b[A\n",
      " 21%|██        | 517/2494 [00:00<00:03, 640.79it/s]\u001b[A\n",
      " 24%|██▎       | 588/2494 [00:00<00:02, 659.47it/s]\u001b[A\n",
      " 27%|██▋       | 671/2494 [00:01<00:02, 702.14it/s]\u001b[A\n",
      " 30%|███       | 753/2494 [00:01<00:02, 731.78it/s]\u001b[A\n",
      " 33%|███▎      | 828/2494 [00:01<00:02, 722.65it/s]\u001b[A\n",
      " 36%|███▌      | 902/2494 [00:01<00:02, 716.52it/s]\u001b[A\n",
      " 39%|███▉      | 975/2494 [00:01<00:02, 719.59it/s]\u001b[A\n",
      " 42%|████▏     | 1054/2494 [00:01<00:01, 738.30it/s]\u001b[A\n",
      " 45%|████▌     | 1129/2494 [00:01<00:01, 737.16it/s]\u001b[A\n",
      " 48%|████▊     | 1204/2494 [00:01<00:01, 735.43it/s]\u001b[A\n",
      " 51%|█████     | 1278/2494 [00:01<00:01, 719.73it/s]\u001b[A\n",
      " 54%|█████▍    | 1351/2494 [00:01<00:01, 703.69it/s]\u001b[A\n",
      " 57%|█████▋    | 1422/2494 [00:02<00:01, 698.05it/s]\u001b[A\n",
      " 60%|██████    | 1501/2494 [00:02<00:01, 722.58it/s]\u001b[A\n",
      " 64%|██████▎   | 1589/2494 [00:02<00:01, 761.64it/s]\u001b[A\n",
      " 67%|██████▋   | 1669/2494 [00:02<00:01, 771.49it/s]\u001b[A\n",
      " 70%|███████   | 1747/2494 [00:02<00:01, 743.82it/s]\u001b[A\n",
      " 73%|███████▎  | 1827/2494 [00:02<00:00, 759.53it/s]\u001b[A\n",
      " 76%|███████▋  | 1904/2494 [00:02<00:00, 752.58it/s]\u001b[A\n",
      " 79%|███████▉  | 1980/2494 [00:02<00:00, 746.11it/s]\u001b[A\n",
      " 83%|████████▎ | 2062/2494 [00:02<00:00, 765.19it/s]\u001b[A\n",
      " 86%|████████▌ | 2139/2494 [00:02<00:00, 740.98it/s]\u001b[A\n",
      " 89%|████████▉ | 2214/2494 [00:03<00:00, 721.47it/s]\u001b[A\n",
      " 92%|█████████▏| 2287/2494 [00:03<00:00, 616.70it/s]\u001b[A\n",
      " 94%|█████████▍| 2352/2494 [00:03<00:00, 551.97it/s]\u001b[A\n",
      " 97%|█████████▋| 2411/2494 [00:03<00:00, 553.88it/s]\u001b[A\n",
      "100%|██████████| 2494/2494 [00:03<00:00, 690.76it/s]\u001b[A"
     ]
    },
    {
     "name": "stdout",
     "output_type": "stream",
     "text": [
      "Accuracy:  0.642\n"
     ]
    },
    {
     "name": "stderr",
     "output_type": "stream",
     "text": [
      "\n"
     ]
    }
   ],
   "source": [
    "correct = 0\n",
    "total = 0\n",
    "with torch.no_grad():\n",
    "    for i in tqdm(range(len(test_X))):\n",
    "        real_class = torch.argmax(test_y[i])\n",
    "        net_out = net(test_X[i].view(-1, 1, 50, 50))[0]  # returns a list, \n",
    "        predicted_class = torch.argmax(net_out)\n",
    "\n",
    "        if predicted_class == real_class:\n",
    "            correct += 1\n",
    "        total += 1\n",
    "print(\"Accuracy: \", round(correct/total, 3))"
   ]
  },
  {
   "cell_type": "markdown",
   "metadata": {},
   "source": [
    "# Train on GPU"
   ]
  },
  {
   "cell_type": "code",
   "execution_count": 42,
   "metadata": {},
   "outputs": [
    {
     "name": "stdout",
     "output_type": "stream",
     "text": [
      "Running on the GPU: cuda:0\n"
     ]
    }
   ],
   "source": [
    "if torch.cuda.is_available():\n",
    "    device = torch.device(\"cuda:0\")  # you can continue going on here, like cuda:1 cuda:2....etc. \n",
    "    print(\"Running on the GPU:\", device)\n",
    "else:\n",
    "    device = torch.device(\"cpu\")\n",
    "    print(\"Running on the CPU\", device)"
   ]
  },
  {
   "cell_type": "code",
   "execution_count": 44,
   "metadata": {},
   "outputs": [],
   "source": [
    "net = Net().to(device)"
   ]
  },
  {
   "cell_type": "code",
   "execution_count": 49,
   "metadata": {},
   "outputs": [],
   "source": [
    "def train(net,BATCH_SIZE = 100,    EPOCHS = 3):\n",
    "    optimizer = optim.Adam(net.parameters(), lr=0.001)\n",
    "    for epoch in range(EPOCHS):\n",
    "        for i in range(0, len(train_X), BATCH_SIZE): # from 0, to the len of x, stepping BATCH_SIZE at a time. [:50] ..for now just to dev\n",
    "            batch_X = train_X[i:i+BATCH_SIZE].view(-1, 1, 50, 50)\n",
    "            batch_y = train_y[i:i+BATCH_SIZE]\n",
    "\n",
    "            batch_X, batch_y = batch_X.to(device), batch_y.to(device)\n",
    "            net.zero_grad()\n",
    "\n",
    "            optimizer.zero_grad()   # zero the gradient buffers\n",
    "            outputs = net(batch_X)\n",
    "            loss = loss_function(outputs, batch_y)\n",
    "            loss.backward()\n",
    "            optimizer.step()    # Does the update\n",
    "\n",
    "        print(f\"Epoch: {epoch}. Loss: {loss}\")\n"
   ]
  },
  {
   "cell_type": "code",
   "execution_count": null,
   "metadata": {},
   "outputs": [
    {
     "name": "stdout",
     "output_type": "stream",
     "text": [
      "Epoch: 0. Loss: 0.09853548556566238\n",
      "Epoch: 1. Loss: 0.10401438921689987\n",
      "Epoch: 2. Loss: 0.09633658826351166\n",
      "Epoch: 3. Loss: 0.1109447181224823\n",
      "Epoch: 4. Loss: 0.0674598291516304\n"
     ]
    }
   ],
   "source": [
    "train(net, EPOCHS=10)"
   ]
  },
  {
   "cell_type": "markdown",
   "metadata": {},
   "source": [
    "# Test Accuracy"
   ]
  },
  {
   "cell_type": "code",
   "execution_count": 46,
   "metadata": {},
   "outputs": [
    {
     "name": "stderr",
     "output_type": "stream",
     "text": [
      "\n",
      "  0%|          | 0/25 [00:00<?, ?it/s]\u001b[A\n",
      " 16%|█▌        | 4/25 [00:00<00:00, 36.00it/s]\u001b[A\n",
      " 40%|████      | 10/25 [00:00<00:00, 40.28it/s]\u001b[A\n",
      " 64%|██████▍   | 16/25 [00:00<00:00, 44.21it/s]\u001b[A\n",
      "100%|██████████| 25/25 [00:00<00:00, 53.13it/s]\u001b[A"
     ]
    },
    {
     "name": "stdout",
     "output_type": "stream",
     "text": [
      "Accuracy:  0.755\n"
     ]
    },
    {
     "name": "stderr",
     "output_type": "stream",
     "text": [
      "\n"
     ]
    }
   ],
   "source": [
    "correct = 0\n",
    "total = 0\n",
    "for i in tqdm(range(0, len(test_X), BATCH_SIZE)):\n",
    "\n",
    "    batch_X = test_X[i:i+BATCH_SIZE].view(-1, 1, 50, 50).to(device)\n",
    "    batch_y = test_y[i:i+BATCH_SIZE].to(device)\n",
    "    batch_out = net(batch_X)\n",
    "\n",
    "    out_maxes = [torch.argmax(i) for i in batch_out]\n",
    "    target_maxes = [torch.argmax(i) for i in batch_y]\n",
    "    for i,j in zip(out_maxes, target_maxes):\n",
    "        if i == j:\n",
    "            correct += 1\n",
    "        total += 1\n",
    "print(\"Accuracy: \", round(correct/total, 3))"
   ]
  },
  {
   "cell_type": "code",
   "execution_count": null,
   "metadata": {},
   "outputs": [],
   "source": []
  }
 ],
 "metadata": {
  "kernelspec": {
   "display_name": "Python 3.7.4 64-bit ('base': conda)",
   "language": "python",
   "name": "python37464bitbaseconda9df01a992b1e4defad7ea743a9c29642"
  },
  "language_info": {
   "codemirror_mode": {
    "name": "ipython",
    "version": 3
   },
   "file_extension": ".py",
   "mimetype": "text/x-python",
   "name": "python",
   "nbconvert_exporter": "python",
   "pygments_lexer": "ipython3",
   "version": "3.7.4"
  }
 },
 "nbformat": 4,
 "nbformat_minor": 2
}
