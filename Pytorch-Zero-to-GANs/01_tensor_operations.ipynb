{
 "cells": [
  {
   "cell_type": "markdown",
   "metadata": {
    "colab_type": "text",
    "id": "9zruyI72dBd2"
   },
   "source": [
    "# Five intersting functions on Pytorch\n",
    "\n",
    "### Pytorch is an open source library used for deep learinig  application and heavily optimized for vector operation.It some with out of the box support for GPU. \n",
    "\n",
    "Here are five intersting function supported by Pytorch. \n",
    "- Bitwise operations\n",
    "- CPU vs GPU\n",
    "- Autograd\n",
    "- Histograms\n",
    "- Distributions"
   ]
  },
  {
   "cell_type": "code",
   "execution_count": 0,
   "metadata": {
    "colab": {},
    "colab_type": "code",
    "id": "hjjVWHWHdBd4"
   },
   "outputs": [],
   "source": [
    "# Import torch and other required modules\n",
    "import torch\n",
    "import time\n",
    "import matplotlib.pyplot as plt\n",
    "import numpy as np\n"
   ]
  },
  {
   "cell_type": "markdown",
   "metadata": {
    "colab_type": "text",
    "id": "vpAeR1YYdBd-"
   },
   "source": [
    "## Bitwise operations avalible in Pytorch\n",
    "\n",
    " In computer programming, a bitwise operation operates on one or more bit patterns or binary numerals at the level of their individual bits. It is a fast and simple action, directly supported by the processor, and is used to manipulate values for comparisons and calculations.\n",
    "\n",
    "Here I assigned two tensors (a & b) with some binary values and performed bitwise AND, OR and XOR operations.The results can be seen above\n"
   ]
  },
  {
   "cell_type": "code",
   "execution_count": 2,
   "metadata": {
    "colab": {
     "base_uri": "https://localhost:8080/",
     "height": 69
    },
    "colab_type": "code",
    "id": "RRB4Mz2TdBeB",
    "outputId": "0aeffd9b-63e7-4186-cb7d-2dd2e42e432e"
   },
   "outputs": [
    {
     "name": "stdout",
     "output_type": "stream",
     "text": [
      "Output of 111 AND 000 is  tensor([0, 0, 0])\n",
      "Output of 111 OR 000 is  tensor([1, 0, 1])\n",
      "Exclusive OR of 111 and 000 is  tensor([1, 0, 1])\n"
     ]
    }
   ],
   "source": [
    "# Bitwise operations supported in Pytorch\n",
    "\n",
    "a = torch.tensor([1, 0, 1])\n",
    "b = torch.tensor([0,0,0])\n",
    "\n",
    "and_op = torch.bitwise_and(a,b)\n",
    "print(\"Output of 111 AND 000 is \", and_op)\n",
    "\n",
    "or_op = torch.bitwise_or(a,b)\n",
    "print(\"Output of 111 OR 000 is \", or_op)\n",
    "\n",
    "xor_op = torch.bitwise_xor(a, b)\n",
    "print(\"Exclusive OR of 111 and 000 is \", xor_op)"
   ]
  },
  {
   "cell_type": "markdown",
   "metadata": {
    "colab_type": "text",
    "id": "b--4nvXgAGeb"
   },
   "source": [
    "# CPU vs GPU Speedup\n",
    "Pytorch allows us to use gpu for compute without installing cuDNN libraries. The following example uses CPU and GPU for multiplying two matrices and shows the speed gain from CPU to GPU."
   ]
  },
  {
   "cell_type": "code",
   "execution_count": 3,
   "metadata": {
    "colab": {
     "base_uri": "https://localhost:8080/",
     "height": 69
    },
    "colab_type": "code",
    "id": "Sok5uO_IdBeH",
    "outputId": "1e3fb231-9ccb-4c12-a620-53c5fff625cb"
   },
   "outputs": [
    {
     "name": "stdout",
     "output_type": "stream",
     "text": [
      "CPU time 0.09494543075561523\n",
      "GPU time 0.0069620609283447266\n",
      "Speed   13.63754665936098\n"
     ]
    }
   ],
   "source": [
    "'''CPU vs GPU speedup\n",
    "!!This example requires a CUDA enabled GPU '''\n",
    "\n",
    "size = 1024                          #choose large matrix else the speedup won't be significant \n",
    "a = torch.randn(size,size)\n",
    "b = torch.randn(size,size)\n",
    "\n",
    "#For CPU\n",
    "start = time.time()\n",
    "ans_cpu = torch.matmul(a, b)\n",
    "stop = time.time()\n",
    "CPU_time = stop - start\n",
    "print(\"CPU time\", CPU_time)\n",
    "\n",
    "#For GPU\n",
    "device = torch.cuda.current_device() # get the name of your current CUDA device\n",
    "\n",
    "a = a.to(device)                     # Send those tensors to VRAM\n",
    "b = b.to(device)\n",
    "\n",
    "start = time.time()\n",
    "ans_gpu = torch.matmul(a, b)\n",
    "stop = time.time()\n",
    "GPU_time = stop - start\n",
    "print(\"GPU time\",GPU_time)\n",
    "\n",
    "#Speed gain\n",
    "speed_up = CPU_time / GPU_time\n",
    "print(\"Speed  \",speed_up)"
   ]
  },
  {
   "cell_type": "markdown",
   "metadata": {
    "colab_type": "text",
    "id": "EU3vRSLHkBXc"
   },
   "source": [
    "# Autograd\n",
    "Using Pytorch autograd package we will find the derivate of a polynomial function f(x) at x = 0-10\n",
    " "
   ]
  },
  {
   "cell_type": "code",
   "execution_count": 5,
   "metadata": {
    "colab": {
     "base_uri": "https://localhost:8080/",
     "height": 399
    },
    "colab_type": "code",
    "id": "QoU_tjqMj95x",
    "outputId": "86f843c7-6f49-4c89-a1e0-6e4243950389"
   },
   "outputs": [
    {
     "name": "stdout",
     "output_type": "stream",
     "text": [
      "f(x) =  -5.0\n",
      "f'(x) =  9.0\n",
      "f(x) =  19.0\n",
      "f'(x) =  52.0\n",
      "f(x) =  145.0\n",
      "f'(x) =  233.0\n",
      "f(x) =  571.0\n",
      "f'(x) =  672.0\n",
      "f(x) =  1615.0\n",
      "f'(x) =  1489.0\n",
      "f(x) =  3715.0\n",
      "f'(x) =  2804.0\n",
      "f(x) =  7429.0\n",
      "f'(x) =  4737.0\n",
      "f(x) =  13435.0\n",
      "f'(x) =  7408.0\n",
      "f(x) =  22531.0\n",
      "f'(x) =  10937.0\n",
      "f(x) =  35635.0\n",
      "f'(x) =  15444.0\n",
      "f(x) =  53785.0\n",
      "f'(x) =  21049.0\n"
     ]
    }
   ],
   "source": [
    "for i in range(11):\n",
    "  x = torch.autograd.Variable(torch.Tensor([i]),requires_grad=True)   #independent var x\n",
    "  y = 5*x**4 + 3*x**3 + 7*x**2 + 9*x - 5                              #f(x)\n",
    "\n",
    "  print(\"f(x) = \", float(y))\n",
    "  y.backward()                                                        #calc the drivate\n",
    "  print(\"f'(x) = \", float(x.grad))"
   ]
  },
  {
   "cell_type": "markdown",
   "metadata": {
    "colab_type": "text",
    "id": "SDASV90zFfL0"
   },
   "source": [
    "# Histogram\n",
    "Pytorch can also be used to compute histogram of a tensor. In this example I am using matplotlib hist function to draw the histogram.\n"
   ]
  },
  {
   "cell_type": "code",
   "execution_count": 0,
   "metadata": {
    "colab": {},
    "colab_type": "code",
    "id": "WIwu9fF-GiwD"
   },
   "outputs": [],
   "source": [
    "def plot_histogram(data):\n",
    "  # An \"interface\" to matplotlib.axes.Axes.hist() method\n",
    "  n, bins, patches = plt.hist(x=data, bins='auto', color='#0504aa',\n",
    "                              alpha=0.8, rwidth=0.85)"
   ]
  },
  {
   "cell_type": "code",
   "execution_count": 7,
   "metadata": {
    "colab": {
     "base_uri": "https://localhost:8080/",
     "height": 265
    },
    "colab_type": "code",
    "id": "eSoCcnvudBeV",
    "outputId": "1810d43c-b382-40ab-ad9a-ef5ceacb253e"
   },
   "outputs": [
    {
     "data": {
      "image/png": "[encoded data removed]",
      "text/plain": [
       "<Figure size 432x288 with 1 Axes>"
      ]
     },
     "metadata": {
      "needs_background": "light",
      "tags": []
     },
     "output_type": "display_data"
    }
   ],
   "source": [
    "data = torch.randn(1000)\n",
    "\n",
    "torch.histc(data, bins=8, min=0, max=100)\n",
    "plot_histogram(data=data)"
   ]
  },
  {
   "cell_type": "markdown",
   "metadata": {
    "colab_type": "text",
    "id": "EU5MGjrGzBcc"
   },
   "source": [
    "# Distributions\n",
    "Pytorch makes it easy to get various types of distribution. Some normal distribution are plotted below."
   ]
  },
  {
   "cell_type": "code",
   "execution_count": 10,
   "metadata": {
    "colab": {
     "base_uri": "https://localhost:8080/",
     "height": 265
    },
    "colab_type": "code",
    "id": "fGgt-l9FzA_H",
    "outputId": "6c8df5dd-cd24-4789-dc05-240f90f6fd65"
   },
   "outputs": [
    {
     "data": {
      "image/png": "[encoded data removed]",
      "text/plain": [
       "<Figure size 432x288 with 1 Axes>"
      ]
     },
     "metadata": {
      "needs_background": "light",
      "tags": []
     },
     "output_type": "display_data"
    }
   ],
   "source": [
    "normal_1 = torch.empty(10000).normal_(mean=0,std=1)\n",
    "plot_histogram(normal_1)"
   ]
  },
  {
   "cell_type": "code",
   "execution_count": 9,
   "metadata": {
    "colab": {
     "base_uri": "https://localhost:8080/",
     "height": 265
    },
    "colab_type": "code",
    "id": "eynOPzRw1YnI",
    "outputId": "20e459d1-0751-4e85-dde8-98df75fd4646"
   },
   "outputs": [
    {
     "data": {
      "image/png": "[encoded data removed]",
      "text/plain": [
       "<Figure size 432x288 with 1 Axes>"
      ]
     },
     "metadata": {
      "needs_background": "light",
      "tags": []
     },
     "output_type": "display_data"
    }
   ],
   "source": [
    "normal_35 = torch.empty(10000).normal_(mean=100,std=35)\n",
    "plot_histogram(normal_35)"
   ]
  },
  {
   "cell_type": "markdown",
   "metadata": {
    "colab_type": "text",
    "id": "X1t4qk4WdBfV"
   },
   "source": [
    "## Conclusion\n",
    "\n",
    "So, this was a very basic overview of of some basic feature of pytorch.In this notebook we created some basic boolean logic, multiplied matrices in CPU and GPU and compared the speed difference, plotted histogram and learned to generated normal distribution of various characteristics."
   ]
  },
  {
   "cell_type": "markdown",
   "metadata": {
    "colab_type": "text",
    "id": "QGZaeq2vdBfW"
   },
   "source": [
    "## Reference Links\n",
    "Provide links to your references and other interesting articles about tensors\n",
    "* Official documentation for `torch.Tensor`: https://pytorch.org/docs/stable/tensors.html\n",
    "\n",
    "* Normal Distribution: https://stackoverflow.com/questions/51136581/how-to-create-a-normal-distribution-in-pytorch"
   ]
  },
  {
   "cell_type": "code",
   "execution_count": 11,
   "metadata": {
    "colab": {
     "base_uri": "https://localhost:8080/",
     "height": 52
    },
    "colab_type": "code",
    "id": "9_NMQxzJdBfW",
    "outputId": "1e6598aa-68c1-4ddc-d9cd-f67b9a3879e7"
   },
   "outputs": [
    {
     "name": "stdout",
     "output_type": "stream",
     "text": [
      "\u001b[?25l\r",
      "\u001b[K     |████                            | 10kB 35.7MB/s eta 0:00:01\r",
      "\u001b[K     |███████▉                        | 20kB 6.5MB/s eta 0:00:01\r",
      "\u001b[K     |███████████▉                    | 30kB 8.0MB/s eta 0:00:01\r",
      "\u001b[K     |███████████████▊                | 40kB 8.7MB/s eta 0:00:01\r",
      "\u001b[K     |███████████████████▋            | 51kB 7.4MB/s eta 0:00:01\r",
      "\u001b[K     |███████████████████████▋        | 61kB 8.3MB/s eta 0:00:01\r",
      "\u001b[K     |███████████████████████████▌    | 71kB 8.6MB/s eta 0:00:01\r",
      "\u001b[K     |███████████████████████████████▍| 81kB 9.2MB/s eta 0:00:01\r",
      "\u001b[K     |████████████████████████████████| 92kB 5.9MB/s \n",
      "\u001b[?25h  Building wheel for uuid (setup.py) ... \u001b[?25l\u001b[?25hdone\n"
     ]
    }
   ],
   "source": [
    "!pip install jovian --upgrade --quiet"
   ]
  },
  {
   "cell_type": "code",
   "execution_count": 1,
   "metadata": {
    "colab": {},
    "colab_type": "code",
    "id": "1PW4GoKLdBfa"
   },
   "outputs": [],
   "source": [
    "import jovian"
   ]
  },
  {
   "cell_type": "code",
   "execution_count": 2,
   "metadata": {
    "colab": {
     "base_uri": "https://localhost:8080/",
     "height": 35
    },
    "colab_type": "code",
    "id": "Lq4IUFwrdBfd",
    "outputId": "b1af74d0-857e-40c7-c514-511bd77c82f4"
   },
   "outputs": [
    {
     "data": {
      "application/javascript": [
       "window.require && require([\"base/js/namespace\"],function(Jupyter){Jupyter.notebook.save_checkpoint()})"
      ],
      "text/plain": [
       "<IPython.core.display.Javascript object>"
      ]
     },
     "metadata": {},
     "output_type": "display_data"
    },
    {
     "name": "stdout",
     "output_type": "stream",
     "text": [
      "[jovian] Attempting to save notebook..\n",
      "[jovian] Uploading notebook..\n",
      "[jovian] Capturing environment..\n",
      "[jovian] Committed successfully! https://jovian.ml/sagyamthapa32/01-tensor-operations-7faef\n"
     ]
    },
    {
     "data": {
      "text/plain": [
       "'https://jovian.ml/sagyamthapa32/01-tensor-operations-7faef'"
      ]
     },
     "execution_count": 2,
     "metadata": {},
     "output_type": "execute_result"
    }
   ],
   "source": [
    "jovian.commit('01_tensor_operations')"
   ]
  },
  {
   "cell_type": "code",
   "execution_count": null,
   "metadata": {},
   "outputs": [],
   "source": []
  }
 ],
 "metadata": {
  "accelerator": "GPU",
  "colab": {
   "collapsed_sections": [],
   "name": " 01-tensor-operations.ipynb",
   "provenance": []
  },
  "kernelspec": {
   "display_name": "Python 3",
   "language": "python",
   "name": "python3"
  },
  "language_info": {
   "codemirror_mode": {
    "name": "ipython",
    "version": 3
   },
   "file_extension": ".py",
   "mimetype": "text/x-python",
   "name": "python",
   "nbconvert_exporter": "python",
   "pygments_lexer": "ipython3",
   "version": "3.7.4"
  }
 },
 "nbformat": 4,
 "nbformat_minor": 1
}
